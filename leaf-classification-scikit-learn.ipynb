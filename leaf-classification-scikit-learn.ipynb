{
  "cells": [
    {
      "cell_type": "markdown",
      "source": [
        "## Importing Libraries"
      ],
      "metadata": {
        "id": "4_GKefH5O1IT"
      }
    },
    {
      "cell_type": "code",
      "execution_count": 1,
      "metadata": {
        "id": "2hj67kjmsbyH"
      },
      "outputs": [],
      "source": [
        "import scipy as sp\n",
        "import numpy as np\n",
        "import pandas as pd\n",
        "import seaborn as sns\n",
        "import matplotlib.pyplot as plt\n",
        "from keras.utils import np_utils\n",
        "from sklearn.impute import SimpleImputer\n",
        "from sklearn.compose import ColumnTransformer\n",
        "from sklearn.model_selection import train_test_split\n",
        "from sklearn.metrics import precision_recall_fscore_support\n",
        "from sklearn.preprocessing import LabelEncoder, OneHotEncoder, StandardScaler\n",
        "from sklearn.metrics import classification_report, confusion_matrix, accuracy_score\n",
        "\n",
        "#Importing classifiers\n",
        "from sklearn.svm import SVC\n",
        "from sklearn.naive_bayes import GaussianNB\n",
        "from sklearn.tree import DecisionTreeClassifier\n",
        "from sklearn.neighbors import KNeighborsClassifier\n",
        "from sklearn.linear_model import LogisticRegression\n",
        "from sklearn.discriminant_analysis import LinearDiscriminantAnalysis"
      ]
    },
    {
      "cell_type": "markdown",
      "source": [
        "## Importing Dataset"
      ],
      "metadata": {
        "id": "xBpWiUeSs4sQ"
      }
    },
    {
      "cell_type": "code",
      "source": [
        "from google.colab import drive\n",
        "drive.mount('/content/drive')"
      ],
      "metadata": {
        "colab": {
          "base_uri": "https://localhost:8080/"
        },
        "id": "1faqGaKusqIn",
        "outputId": "765fab57-48db-4033-d3ca-b5613977de63"
      },
      "execution_count": 2,
      "outputs": [
        {
          "output_type": "stream",
          "name": "stdout",
          "text": [
            "Drive already mounted at /content/drive; to attempt to forcibly remount, call drive.mount(\"/content/drive\", force_remount=True).\n"
          ]
        }
      ]
    },
    {
      "cell_type": "markdown",
      "source": [
        "## Data Preparation"
      ],
      "metadata": {
        "id": "TuVQpsqns9tY"
      }
    },
    {
      "cell_type": "code",
      "execution_count": 3,
      "metadata": {
        "id": "2U_crQmcsbyL"
      },
      "outputs": [],
      "source": [
        "df = pd.read_csv(\"/content/drive/MyDrive/Colab Notebooks/leaf-classification/dataset/leaf.csv\")"
      ]
    },
    {
      "cell_type": "code",
      "execution_count": 4,
      "metadata": {
        "colab": {
          "base_uri": "https://localhost:8080/",
          "height": 206
        },
        "id": "qFVLJteysbyL",
        "outputId": "939024cd-aa5b-4960-f3cc-a1cea359740c"
      },
      "outputs": [
        {
          "output_type": "execute_result",
          "data": {
            "text/plain": [
              "   1  1.1  0.72694  1.4742  0.32396  0.98535      1.2  0.83592  0.0046566  \\\n",
              "0  1    2  0.74173  1.5257  0.36116  0.98152  0.99825  0.79867   0.005242   \n",
              "1  1    3  0.76722  1.5725  0.38998  0.97755  1.00000  0.80812   0.007457   \n",
              "2  1    4  0.73797  1.4597  0.35376  0.97566  1.00000  0.81697   0.006877   \n",
              "3  1    5  0.82301  1.7707  0.44462  0.97698  1.00000  0.75493   0.007428   \n",
              "4  1    6  0.72997  1.4892  0.34284  0.98755  1.00000  0.84482   0.004945   \n",
              "\n",
              "   0.0039465   0.04779   0.12795  0.016108  0.0052323  0.00027477   1.1756  \n",
              "0   0.005002  0.024160  0.090476  0.008119   0.002708    0.000075  0.69659  \n",
              "1   0.010121  0.011897  0.057445  0.003289   0.000921    0.000038  0.44348  \n",
              "2   0.008607  0.015950  0.065491  0.004271   0.001154    0.000066  0.58785  \n",
              "3   0.010042  0.007938  0.045339  0.002051   0.000560    0.000024  0.34214  \n",
              "4   0.004451  0.010487  0.058528  0.003414   0.001125    0.000025  0.34068  "
            ],
            "text/html": [
              "\n",
              "  <div id=\"df-e49e8899-0707-4675-a932-8bb651669d05\">\n",
              "    <div class=\"colab-df-container\">\n",
              "      <div>\n",
              "<style scoped>\n",
              "    .dataframe tbody tr th:only-of-type {\n",
              "        vertical-align: middle;\n",
              "    }\n",
              "\n",
              "    .dataframe tbody tr th {\n",
              "        vertical-align: top;\n",
              "    }\n",
              "\n",
              "    .dataframe thead th {\n",
              "        text-align: right;\n",
              "    }\n",
              "</style>\n",
              "<table border=\"1\" class=\"dataframe\">\n",
              "  <thead>\n",
              "    <tr style=\"text-align: right;\">\n",
              "      <th></th>\n",
              "      <th>1</th>\n",
              "      <th>1.1</th>\n",
              "      <th>0.72694</th>\n",
              "      <th>1.4742</th>\n",
              "      <th>0.32396</th>\n",
              "      <th>0.98535</th>\n",
              "      <th>1.2</th>\n",
              "      <th>0.83592</th>\n",
              "      <th>0.0046566</th>\n",
              "      <th>0.0039465</th>\n",
              "      <th>0.04779</th>\n",
              "      <th>0.12795</th>\n",
              "      <th>0.016108</th>\n",
              "      <th>0.0052323</th>\n",
              "      <th>0.00027477</th>\n",
              "      <th>1.1756</th>\n",
              "    </tr>\n",
              "  </thead>\n",
              "  <tbody>\n",
              "    <tr>\n",
              "      <th>0</th>\n",
              "      <td>1</td>\n",
              "      <td>2</td>\n",
              "      <td>0.74173</td>\n",
              "      <td>1.5257</td>\n",
              "      <td>0.36116</td>\n",
              "      <td>0.98152</td>\n",
              "      <td>0.99825</td>\n",
              "      <td>0.79867</td>\n",
              "      <td>0.005242</td>\n",
              "      <td>0.005002</td>\n",
              "      <td>0.024160</td>\n",
              "      <td>0.090476</td>\n",
              "      <td>0.008119</td>\n",
              "      <td>0.002708</td>\n",
              "      <td>0.000075</td>\n",
              "      <td>0.69659</td>\n",
              "    </tr>\n",
              "    <tr>\n",
              "      <th>1</th>\n",
              "      <td>1</td>\n",
              "      <td>3</td>\n",
              "      <td>0.76722</td>\n",
              "      <td>1.5725</td>\n",
              "      <td>0.38998</td>\n",
              "      <td>0.97755</td>\n",
              "      <td>1.00000</td>\n",
              "      <td>0.80812</td>\n",
              "      <td>0.007457</td>\n",
              "      <td>0.010121</td>\n",
              "      <td>0.011897</td>\n",
              "      <td>0.057445</td>\n",
              "      <td>0.003289</td>\n",
              "      <td>0.000921</td>\n",
              "      <td>0.000038</td>\n",
              "      <td>0.44348</td>\n",
              "    </tr>\n",
              "    <tr>\n",
              "      <th>2</th>\n",
              "      <td>1</td>\n",
              "      <td>4</td>\n",
              "      <td>0.73797</td>\n",
              "      <td>1.4597</td>\n",
              "      <td>0.35376</td>\n",
              "      <td>0.97566</td>\n",
              "      <td>1.00000</td>\n",
              "      <td>0.81697</td>\n",
              "      <td>0.006877</td>\n",
              "      <td>0.008607</td>\n",
              "      <td>0.015950</td>\n",
              "      <td>0.065491</td>\n",
              "      <td>0.004271</td>\n",
              "      <td>0.001154</td>\n",
              "      <td>0.000066</td>\n",
              "      <td>0.58785</td>\n",
              "    </tr>\n",
              "    <tr>\n",
              "      <th>3</th>\n",
              "      <td>1</td>\n",
              "      <td>5</td>\n",
              "      <td>0.82301</td>\n",
              "      <td>1.7707</td>\n",
              "      <td>0.44462</td>\n",
              "      <td>0.97698</td>\n",
              "      <td>1.00000</td>\n",
              "      <td>0.75493</td>\n",
              "      <td>0.007428</td>\n",
              "      <td>0.010042</td>\n",
              "      <td>0.007938</td>\n",
              "      <td>0.045339</td>\n",
              "      <td>0.002051</td>\n",
              "      <td>0.000560</td>\n",
              "      <td>0.000024</td>\n",
              "      <td>0.34214</td>\n",
              "    </tr>\n",
              "    <tr>\n",
              "      <th>4</th>\n",
              "      <td>1</td>\n",
              "      <td>6</td>\n",
              "      <td>0.72997</td>\n",
              "      <td>1.4892</td>\n",
              "      <td>0.34284</td>\n",
              "      <td>0.98755</td>\n",
              "      <td>1.00000</td>\n",
              "      <td>0.84482</td>\n",
              "      <td>0.004945</td>\n",
              "      <td>0.004451</td>\n",
              "      <td>0.010487</td>\n",
              "      <td>0.058528</td>\n",
              "      <td>0.003414</td>\n",
              "      <td>0.001125</td>\n",
              "      <td>0.000025</td>\n",
              "      <td>0.34068</td>\n",
              "    </tr>\n",
              "  </tbody>\n",
              "</table>\n",
              "</div>\n",
              "      <button class=\"colab-df-convert\" onclick=\"convertToInteractive('df-e49e8899-0707-4675-a932-8bb651669d05')\"\n",
              "              title=\"Convert this dataframe to an interactive table.\"\n",
              "              style=\"display:none;\">\n",
              "        \n",
              "  <svg xmlns=\"http://www.w3.org/2000/svg\" height=\"24px\"viewBox=\"0 0 24 24\"\n",
              "       width=\"24px\">\n",
              "    <path d=\"M0 0h24v24H0V0z\" fill=\"none\"/>\n",
              "    <path d=\"M18.56 5.44l.94 2.06.94-2.06 2.06-.94-2.06-.94-.94-2.06-.94 2.06-2.06.94zm-11 1L8.5 8.5l.94-2.06 2.06-.94-2.06-.94L8.5 2.5l-.94 2.06-2.06.94zm10 10l.94 2.06.94-2.06 2.06-.94-2.06-.94-.94-2.06-.94 2.06-2.06.94z\"/><path d=\"M17.41 7.96l-1.37-1.37c-.4-.4-.92-.59-1.43-.59-.52 0-1.04.2-1.43.59L10.3 9.45l-7.72 7.72c-.78.78-.78 2.05 0 2.83L4 21.41c.39.39.9.59 1.41.59.51 0 1.02-.2 1.41-.59l7.78-7.78 2.81-2.81c.8-.78.8-2.07 0-2.86zM5.41 20L4 18.59l7.72-7.72 1.47 1.35L5.41 20z\"/>\n",
              "  </svg>\n",
              "      </button>\n",
              "      \n",
              "  <style>\n",
              "    .colab-df-container {\n",
              "      display:flex;\n",
              "      flex-wrap:wrap;\n",
              "      gap: 12px;\n",
              "    }\n",
              "\n",
              "    .colab-df-convert {\n",
              "      background-color: #E8F0FE;\n",
              "      border: none;\n",
              "      border-radius: 50%;\n",
              "      cursor: pointer;\n",
              "      display: none;\n",
              "      fill: #1967D2;\n",
              "      height: 32px;\n",
              "      padding: 0 0 0 0;\n",
              "      width: 32px;\n",
              "    }\n",
              "\n",
              "    .colab-df-convert:hover {\n",
              "      background-color: #E2EBFA;\n",
              "      box-shadow: 0px 1px 2px rgba(60, 64, 67, 0.3), 0px 1px 3px 1px rgba(60, 64, 67, 0.15);\n",
              "      fill: #174EA6;\n",
              "    }\n",
              "\n",
              "    [theme=dark] .colab-df-convert {\n",
              "      background-color: #3B4455;\n",
              "      fill: #D2E3FC;\n",
              "    }\n",
              "\n",
              "    [theme=dark] .colab-df-convert:hover {\n",
              "      background-color: #434B5C;\n",
              "      box-shadow: 0px 1px 3px 1px rgba(0, 0, 0, 0.15);\n",
              "      filter: drop-shadow(0px 1px 2px rgba(0, 0, 0, 0.3));\n",
              "      fill: #FFFFFF;\n",
              "    }\n",
              "  </style>\n",
              "\n",
              "      <script>\n",
              "        const buttonEl =\n",
              "          document.querySelector('#df-e49e8899-0707-4675-a932-8bb651669d05 button.colab-df-convert');\n",
              "        buttonEl.style.display =\n",
              "          google.colab.kernel.accessAllowed ? 'block' : 'none';\n",
              "\n",
              "        async function convertToInteractive(key) {\n",
              "          const element = document.querySelector('#df-e49e8899-0707-4675-a932-8bb651669d05');\n",
              "          const dataTable =\n",
              "            await google.colab.kernel.invokeFunction('convertToInteractive',\n",
              "                                                     [key], {});\n",
              "          if (!dataTable) return;\n",
              "\n",
              "          const docLinkHtml = 'Like what you see? Visit the ' +\n",
              "            '<a target=\"_blank\" href=https://colab.research.google.com/notebooks/data_table.ipynb>data table notebook</a>'\n",
              "            + ' to learn more about interactive tables.';\n",
              "          element.innerHTML = '';\n",
              "          dataTable['output_type'] = 'display_data';\n",
              "          await google.colab.output.renderOutput(dataTable, element);\n",
              "          const docLink = document.createElement('div');\n",
              "          docLink.innerHTML = docLinkHtml;\n",
              "          element.appendChild(docLink);\n",
              "        }\n",
              "      </script>\n",
              "    </div>\n",
              "  </div>\n",
              "  "
            ]
          },
          "metadata": {},
          "execution_count": 4
        }
      ],
      "source": [
        "df.head()"
      ]
    },
    {
      "cell_type": "code",
      "execution_count": 5,
      "metadata": {
        "id": "mwO7Y5oxsbyM"
      },
      "outputs": [],
      "source": [
        "columns = ['Species-(Class)', 'Specimen-Number', 'Eccentricity', 'Aspect-Ratio', 'Elongation', 'Solidity', 'Stochastic-Convexity', 'Isoperimetric-Factor', 'Maximal-Indentation-Depth', 'Lobedness', 'Average-Intensity', 'Average-Contrast', 'Smoothness', 'Third-moment', 'Uniformity', 'Entropy']"
      ]
    },
    {
      "cell_type": "code",
      "execution_count": 6,
      "metadata": {
        "id": "lFfz6NpWsbyM"
      },
      "outputs": [],
      "source": [
        "leaf_dataset = pd.read_csv('/content/drive/MyDrive/Colab Notebooks/leaf-classification/dataset/leaf.csv', names=columns)"
      ]
    },
    {
      "cell_type": "code",
      "source": [
        "print(leaf_dataset.columns)"
      ],
      "metadata": {
        "colab": {
          "base_uri": "https://localhost:8080/"
        },
        "id": "7v6ArSTSMpVC",
        "outputId": "d0da9aa8-84c0-43a9-c246-b2b288ce83df"
      },
      "execution_count": 7,
      "outputs": [
        {
          "output_type": "stream",
          "name": "stdout",
          "text": [
            "Index(['Species-(Class)', 'Specimen-Number', 'Eccentricity', 'Aspect-Ratio',\n",
            "       'Elongation', 'Solidity', 'Stochastic-Convexity',\n",
            "       'Isoperimetric-Factor', 'Maximal-Indentation-Depth', 'Lobedness',\n",
            "       'Average-Intensity', 'Average-Contrast', 'Smoothness', 'Third-moment',\n",
            "       'Uniformity', 'Entropy'],\n",
            "      dtype='object')\n"
          ]
        }
      ]
    },
    {
      "cell_type": "code",
      "execution_count": 8,
      "metadata": {
        "colab": {
          "base_uri": "https://localhost:8080/"
        },
        "id": "nBw6tO2KsbyN",
        "outputId": "8885beb3-3230-46b4-fadf-326515032688"
      },
      "outputs": [
        {
          "output_type": "stream",
          "name": "stdout",
          "text": [
            "<class 'pandas.core.frame.DataFrame'>\n",
            "RangeIndex: 340 entries, 0 to 339\n",
            "Data columns (total 16 columns):\n",
            " #   Column                     Non-Null Count  Dtype  \n",
            "---  ------                     --------------  -----  \n",
            " 0   Species-(Class)            340 non-null    int64  \n",
            " 1   Specimen-Number            340 non-null    int64  \n",
            " 2   Eccentricity               340 non-null    float64\n",
            " 3   Aspect-Ratio               340 non-null    float64\n",
            " 4   Elongation                 340 non-null    float64\n",
            " 5   Solidity                   340 non-null    float64\n",
            " 6   Stochastic-Convexity       340 non-null    float64\n",
            " 7   Isoperimetric-Factor       340 non-null    float64\n",
            " 8   Maximal-Indentation-Depth  340 non-null    float64\n",
            " 9   Lobedness                  340 non-null    float64\n",
            " 10  Average-Intensity          340 non-null    float64\n",
            " 11  Average-Contrast           340 non-null    float64\n",
            " 12  Smoothness                 340 non-null    float64\n",
            " 13  Third-moment               340 non-null    float64\n",
            " 14  Uniformity                 340 non-null    float64\n",
            " 15  Entropy                    340 non-null    float64\n",
            "dtypes: float64(14), int64(2)\n",
            "memory usage: 42.6 KB\n"
          ]
        }
      ],
      "source": [
        "leaf_dataset.info()"
      ]
    },
    {
      "cell_type": "code",
      "execution_count": 9,
      "metadata": {
        "colab": {
          "base_uri": "https://localhost:8080/",
          "height": 305
        },
        "id": "-YR8-Lp9sbyN",
        "outputId": "0c0d82b1-6f9d-465f-c66d-2e547b6f5b78"
      },
      "outputs": [
        {
          "output_type": "execute_result",
          "data": {
            "text/plain": [
              "   Species-(Class)  Specimen-Number  Eccentricity  Aspect-Ratio  Elongation  \\\n",
              "0                1                1       0.72694        1.4742     0.32396   \n",
              "1                1                2       0.74173        1.5257     0.36116   \n",
              "2                1                3       0.76722        1.5725     0.38998   \n",
              "3                1                4       0.73797        1.4597     0.35376   \n",
              "4                1                5       0.82301        1.7707     0.44462   \n",
              "\n",
              "   Solidity  Stochastic-Convexity  Isoperimetric-Factor  \\\n",
              "0   0.98535               1.00000               0.83592   \n",
              "1   0.98152               0.99825               0.79867   \n",
              "2   0.97755               1.00000               0.80812   \n",
              "3   0.97566               1.00000               0.81697   \n",
              "4   0.97698               1.00000               0.75493   \n",
              "\n",
              "   Maximal-Indentation-Depth  Lobedness  Average-Intensity  Average-Contrast  \\\n",
              "0                   0.004657   0.003947           0.047790          0.127950   \n",
              "1                   0.005242   0.005002           0.024160          0.090476   \n",
              "2                   0.007457   0.010121           0.011897          0.057445   \n",
              "3                   0.006877   0.008607           0.015950          0.065491   \n",
              "4                   0.007428   0.010042           0.007938          0.045339   \n",
              "\n",
              "   Smoothness  Third-moment  Uniformity  Entropy  \n",
              "0    0.016108      0.005232    0.000275  1.17560  \n",
              "1    0.008119      0.002708    0.000075  0.69659  \n",
              "2    0.003289      0.000921    0.000038  0.44348  \n",
              "3    0.004271      0.001154    0.000066  0.58785  \n",
              "4    0.002051      0.000560    0.000024  0.34214  "
            ],
            "text/html": [
              "\n",
              "  <div id=\"df-754d394e-4d65-4b9f-bb94-1e6625e6dab0\">\n",
              "    <div class=\"colab-df-container\">\n",
              "      <div>\n",
              "<style scoped>\n",
              "    .dataframe tbody tr th:only-of-type {\n",
              "        vertical-align: middle;\n",
              "    }\n",
              "\n",
              "    .dataframe tbody tr th {\n",
              "        vertical-align: top;\n",
              "    }\n",
              "\n",
              "    .dataframe thead th {\n",
              "        text-align: right;\n",
              "    }\n",
              "</style>\n",
              "<table border=\"1\" class=\"dataframe\">\n",
              "  <thead>\n",
              "    <tr style=\"text-align: right;\">\n",
              "      <th></th>\n",
              "      <th>Species-(Class)</th>\n",
              "      <th>Specimen-Number</th>\n",
              "      <th>Eccentricity</th>\n",
              "      <th>Aspect-Ratio</th>\n",
              "      <th>Elongation</th>\n",
              "      <th>Solidity</th>\n",
              "      <th>Stochastic-Convexity</th>\n",
              "      <th>Isoperimetric-Factor</th>\n",
              "      <th>Maximal-Indentation-Depth</th>\n",
              "      <th>Lobedness</th>\n",
              "      <th>Average-Intensity</th>\n",
              "      <th>Average-Contrast</th>\n",
              "      <th>Smoothness</th>\n",
              "      <th>Third-moment</th>\n",
              "      <th>Uniformity</th>\n",
              "      <th>Entropy</th>\n",
              "    </tr>\n",
              "  </thead>\n",
              "  <tbody>\n",
              "    <tr>\n",
              "      <th>0</th>\n",
              "      <td>1</td>\n",
              "      <td>1</td>\n",
              "      <td>0.72694</td>\n",
              "      <td>1.4742</td>\n",
              "      <td>0.32396</td>\n",
              "      <td>0.98535</td>\n",
              "      <td>1.00000</td>\n",
              "      <td>0.83592</td>\n",
              "      <td>0.004657</td>\n",
              "      <td>0.003947</td>\n",
              "      <td>0.047790</td>\n",
              "      <td>0.127950</td>\n",
              "      <td>0.016108</td>\n",
              "      <td>0.005232</td>\n",
              "      <td>0.000275</td>\n",
              "      <td>1.17560</td>\n",
              "    </tr>\n",
              "    <tr>\n",
              "      <th>1</th>\n",
              "      <td>1</td>\n",
              "      <td>2</td>\n",
              "      <td>0.74173</td>\n",
              "      <td>1.5257</td>\n",
              "      <td>0.36116</td>\n",
              "      <td>0.98152</td>\n",
              "      <td>0.99825</td>\n",
              "      <td>0.79867</td>\n",
              "      <td>0.005242</td>\n",
              "      <td>0.005002</td>\n",
              "      <td>0.024160</td>\n",
              "      <td>0.090476</td>\n",
              "      <td>0.008119</td>\n",
              "      <td>0.002708</td>\n",
              "      <td>0.000075</td>\n",
              "      <td>0.69659</td>\n",
              "    </tr>\n",
              "    <tr>\n",
              "      <th>2</th>\n",
              "      <td>1</td>\n",
              "      <td>3</td>\n",
              "      <td>0.76722</td>\n",
              "      <td>1.5725</td>\n",
              "      <td>0.38998</td>\n",
              "      <td>0.97755</td>\n",
              "      <td>1.00000</td>\n",
              "      <td>0.80812</td>\n",
              "      <td>0.007457</td>\n",
              "      <td>0.010121</td>\n",
              "      <td>0.011897</td>\n",
              "      <td>0.057445</td>\n",
              "      <td>0.003289</td>\n",
              "      <td>0.000921</td>\n",
              "      <td>0.000038</td>\n",
              "      <td>0.44348</td>\n",
              "    </tr>\n",
              "    <tr>\n",
              "      <th>3</th>\n",
              "      <td>1</td>\n",
              "      <td>4</td>\n",
              "      <td>0.73797</td>\n",
              "      <td>1.4597</td>\n",
              "      <td>0.35376</td>\n",
              "      <td>0.97566</td>\n",
              "      <td>1.00000</td>\n",
              "      <td>0.81697</td>\n",
              "      <td>0.006877</td>\n",
              "      <td>0.008607</td>\n",
              "      <td>0.015950</td>\n",
              "      <td>0.065491</td>\n",
              "      <td>0.004271</td>\n",
              "      <td>0.001154</td>\n",
              "      <td>0.000066</td>\n",
              "      <td>0.58785</td>\n",
              "    </tr>\n",
              "    <tr>\n",
              "      <th>4</th>\n",
              "      <td>1</td>\n",
              "      <td>5</td>\n",
              "      <td>0.82301</td>\n",
              "      <td>1.7707</td>\n",
              "      <td>0.44462</td>\n",
              "      <td>0.97698</td>\n",
              "      <td>1.00000</td>\n",
              "      <td>0.75493</td>\n",
              "      <td>0.007428</td>\n",
              "      <td>0.010042</td>\n",
              "      <td>0.007938</td>\n",
              "      <td>0.045339</td>\n",
              "      <td>0.002051</td>\n",
              "      <td>0.000560</td>\n",
              "      <td>0.000024</td>\n",
              "      <td>0.34214</td>\n",
              "    </tr>\n",
              "  </tbody>\n",
              "</table>\n",
              "</div>\n",
              "      <button class=\"colab-df-convert\" onclick=\"convertToInteractive('df-754d394e-4d65-4b9f-bb94-1e6625e6dab0')\"\n",
              "              title=\"Convert this dataframe to an interactive table.\"\n",
              "              style=\"display:none;\">\n",
              "        \n",
              "  <svg xmlns=\"http://www.w3.org/2000/svg\" height=\"24px\"viewBox=\"0 0 24 24\"\n",
              "       width=\"24px\">\n",
              "    <path d=\"M0 0h24v24H0V0z\" fill=\"none\"/>\n",
              "    <path d=\"M18.56 5.44l.94 2.06.94-2.06 2.06-.94-2.06-.94-.94-2.06-.94 2.06-2.06.94zm-11 1L8.5 8.5l.94-2.06 2.06-.94-2.06-.94L8.5 2.5l-.94 2.06-2.06.94zm10 10l.94 2.06.94-2.06 2.06-.94-2.06-.94-.94-2.06-.94 2.06-2.06.94z\"/><path d=\"M17.41 7.96l-1.37-1.37c-.4-.4-.92-.59-1.43-.59-.52 0-1.04.2-1.43.59L10.3 9.45l-7.72 7.72c-.78.78-.78 2.05 0 2.83L4 21.41c.39.39.9.59 1.41.59.51 0 1.02-.2 1.41-.59l7.78-7.78 2.81-2.81c.8-.78.8-2.07 0-2.86zM5.41 20L4 18.59l7.72-7.72 1.47 1.35L5.41 20z\"/>\n",
              "  </svg>\n",
              "      </button>\n",
              "      \n",
              "  <style>\n",
              "    .colab-df-container {\n",
              "      display:flex;\n",
              "      flex-wrap:wrap;\n",
              "      gap: 12px;\n",
              "    }\n",
              "\n",
              "    .colab-df-convert {\n",
              "      background-color: #E8F0FE;\n",
              "      border: none;\n",
              "      border-radius: 50%;\n",
              "      cursor: pointer;\n",
              "      display: none;\n",
              "      fill: #1967D2;\n",
              "      height: 32px;\n",
              "      padding: 0 0 0 0;\n",
              "      width: 32px;\n",
              "    }\n",
              "\n",
              "    .colab-df-convert:hover {\n",
              "      background-color: #E2EBFA;\n",
              "      box-shadow: 0px 1px 2px rgba(60, 64, 67, 0.3), 0px 1px 3px 1px rgba(60, 64, 67, 0.15);\n",
              "      fill: #174EA6;\n",
              "    }\n",
              "\n",
              "    [theme=dark] .colab-df-convert {\n",
              "      background-color: #3B4455;\n",
              "      fill: #D2E3FC;\n",
              "    }\n",
              "\n",
              "    [theme=dark] .colab-df-convert:hover {\n",
              "      background-color: #434B5C;\n",
              "      box-shadow: 0px 1px 3px 1px rgba(0, 0, 0, 0.15);\n",
              "      filter: drop-shadow(0px 1px 2px rgba(0, 0, 0, 0.3));\n",
              "      fill: #FFFFFF;\n",
              "    }\n",
              "  </style>\n",
              "\n",
              "      <script>\n",
              "        const buttonEl =\n",
              "          document.querySelector('#df-754d394e-4d65-4b9f-bb94-1e6625e6dab0 button.colab-df-convert');\n",
              "        buttonEl.style.display =\n",
              "          google.colab.kernel.accessAllowed ? 'block' : 'none';\n",
              "\n",
              "        async function convertToInteractive(key) {\n",
              "          const element = document.querySelector('#df-754d394e-4d65-4b9f-bb94-1e6625e6dab0');\n",
              "          const dataTable =\n",
              "            await google.colab.kernel.invokeFunction('convertToInteractive',\n",
              "                                                     [key], {});\n",
              "          if (!dataTable) return;\n",
              "\n",
              "          const docLinkHtml = 'Like what you see? Visit the ' +\n",
              "            '<a target=\"_blank\" href=https://colab.research.google.com/notebooks/data_table.ipynb>data table notebook</a>'\n",
              "            + ' to learn more about interactive tables.';\n",
              "          element.innerHTML = '';\n",
              "          dataTable['output_type'] = 'display_data';\n",
              "          await google.colab.output.renderOutput(dataTable, element);\n",
              "          const docLink = document.createElement('div');\n",
              "          docLink.innerHTML = docLinkHtml;\n",
              "          element.appendChild(docLink);\n",
              "        }\n",
              "      </script>\n",
              "    </div>\n",
              "  </div>\n",
              "  "
            ]
          },
          "metadata": {},
          "execution_count": 9
        }
      ],
      "source": [
        "leaf_dataset.head()"
      ]
    },
    {
      "cell_type": "markdown",
      "source": [
        "## Data Preprocessing"
      ],
      "metadata": {
        "id": "Qo90VBwwtLwG"
      }
    },
    {
      "cell_type": "markdown",
      "source": [
        "Finding and filling missing values"
      ],
      "metadata": {
        "id": "WtTL02tstREx"
      }
    },
    {
      "cell_type": "code",
      "execution_count": 10,
      "metadata": {
        "id": "K_-7joLesbyO",
        "colab": {
          "base_uri": "https://localhost:8080/"
        },
        "outputId": "6891e002-0fe5-46a1-f841-cb7ab0cf470d"
      },
      "outputs": [
        {
          "output_type": "stream",
          "name": "stdout",
          "text": [
            "0      False\n",
            "1      False\n",
            "2      False\n",
            "3      False\n",
            "4      False\n",
            "       ...  \n",
            "335    False\n",
            "336    False\n",
            "337    False\n",
            "338    False\n",
            "339    False\n",
            "Length: 340, dtype: bool\n"
          ]
        }
      ],
      "source": [
        "print(leaf_dataset.isnull().any(axis=1))"
      ]
    },
    {
      "cell_type": "code",
      "source": [
        "print(leaf_dataset.isnull().sum(axis=1))"
      ],
      "metadata": {
        "id": "hqi2ukAit9kP",
        "colab": {
          "base_uri": "https://localhost:8080/"
        },
        "outputId": "a6dfa155-c2b9-42ec-ce88-3a7b590155b9"
      },
      "execution_count": 11,
      "outputs": [
        {
          "output_type": "stream",
          "name": "stdout",
          "text": [
            "0      0\n",
            "1      0\n",
            "2      0\n",
            "3      0\n",
            "4      0\n",
            "      ..\n",
            "335    0\n",
            "336    0\n",
            "337    0\n",
            "338    0\n",
            "339    0\n",
            "Length: 340, dtype: int64\n"
          ]
        }
      ]
    },
    {
      "cell_type": "code",
      "execution_count": 12,
      "metadata": {
        "id": "OC743EDvsbyQ"
      },
      "outputs": [],
      "source": [
        "X = leaf_dataset.iloc[:, 2:16].values\n",
        "y = leaf_dataset.iloc[:, 0].values"
      ]
    },
    {
      "cell_type": "code",
      "source": [
        "imputer = SimpleImputer(missing_values=np.nan, strategy='mean')\n",
        "imputer.fit(X[:, :]) #Selecting and filling the missing values from all rows and all the coloumns in X array\n",
        "X[:, :] = imputer.transform(X[:, :])"
      ],
      "metadata": {
        "id": "YVJ_6F8xa3n7"
      },
      "execution_count": 13,
      "outputs": []
    },
    {
      "cell_type": "code",
      "execution_count": 14,
      "metadata": {
        "colab": {
          "base_uri": "https://localhost:8080/"
        },
        "id": "ZayoQUohsbyQ",
        "outputId": "0f7eaaa5-0609-4651-b33f-fd4ec28e5d52"
      },
      "outputs": [
        {
          "output_type": "stream",
          "name": "stdout",
          "text": [
            "[[7.2694e-01 1.4742e+00 3.2396e-01 ... 5.2323e-03 2.7477e-04 1.1756e+00]\n",
            " [7.4173e-01 1.5257e+00 3.6116e-01 ... 2.7080e-03 7.4846e-05 6.9659e-01]\n",
            " [7.6722e-01 1.5725e+00 3.8998e-01 ... 9.2068e-04 3.7886e-05 4.4348e-01]\n",
            " ...\n",
            " [3.5344e-01 1.0329e+00 7.8147e-01 ... 1.6123e-02 4.5288e-04 1.6935e+00]\n",
            " [5.9988e-01 1.1427e+00 7.1532e-01 ... 6.1900e-03 2.6454e-04 1.1526e+00]\n",
            " [4.7195e-01 1.0901e+00 8.5409e-01 ... 1.3487e-02 3.2855e-04 1.5623e+00]]\n"
          ]
        }
      ],
      "source": [
        "print(X)"
      ]
    },
    {
      "cell_type": "code",
      "execution_count": 15,
      "metadata": {
        "colab": {
          "base_uri": "https://localhost:8080/"
        },
        "id": "ZBhb-dwBsbyR",
        "outputId": "4271f8ce-994c-455e-95e5-fd7e66ee59f0"
      },
      "outputs": [
        {
          "output_type": "stream",
          "name": "stdout",
          "text": [
            "[ 1  1  1  1  1  1  1  1  1  1  1  1  2  2  2  2  2  2  2  2  2  2  3  3\n",
            "  3  3  3  3  3  3  3  3  4  4  4  4  4  4  4  4  5  5  5  5  5  5  5  5\n",
            "  5  5  5  5  6  6  6  6  6  6  6  6  7  7  7  7  7  7  7  7  7  7  8  8\n",
            "  8  8  8  8  8  8  8  8  8  9  9  9  9  9  9  9  9  9  9  9  9  9  9 10\n",
            " 10 10 10 10 10 10 10 10 10 10 10 10 11 11 11 11 11 11 11 11 11 11 11 11\n",
            " 11 11 11 11 12 12 12 12 12 12 12 12 12 12 12 12 13 13 13 13 13 13 13 13\n",
            " 13 13 13 13 13 14 14 14 14 14 14 14 14 14 14 14 14 15 15 15 15 15 15 15\n",
            " 15 15 15 22 22 22 22 22 22 22 22 22 22 22 22 23 23 23 23 23 23 23 23 23\n",
            " 23 23 24 24 24 24 24 24 24 24 24 24 24 24 24 25 25 25 25 25 25 25 25 25\n",
            " 26 26 26 26 26 26 26 26 26 26 26 26 27 27 27 27 27 27 27 27 27 27 27 28\n",
            " 28 28 28 28 28 28 28 28 28 28 28 29 29 29 29 29 29 29 29 29 29 29 29 30\n",
            " 30 30 30 30 30 30 30 30 30 30 30 31 31 31 31 31 31 31 31 31 31 31 32 32\n",
            " 32 32 32 32 32 32 32 32 32 33 33 33 33 33 33 33 33 33 33 33 34 34 34 34\n",
            " 34 34 34 34 34 34 34 35 35 35 35 35 35 35 35 35 35 35 36 36 36 36 36 36\n",
            " 36 36 36 36]\n"
          ]
        }
      ],
      "source": [
        "print(y)"
      ]
    },
    {
      "cell_type": "markdown",
      "source": [
        "Label Encoding"
      ],
      "metadata": {
        "id": "jV6uXpjwuHj_"
      }
    },
    {
      "cell_type": "code",
      "execution_count": 16,
      "metadata": {
        "id": "06q9VY4esbyS"
      },
      "outputs": [],
      "source": [
        "label_encode = LabelEncoder()\n",
        "y = label_encode.fit_transform(y)"
      ]
    },
    {
      "cell_type": "code",
      "execution_count": 17,
      "metadata": {
        "id": "qjwErqqxsbyS",
        "colab": {
          "base_uri": "https://localhost:8080/"
        },
        "outputId": "e32cf1c9-129d-47b3-9431-1edbe067a6d5"
      },
      "outputs": [
        {
          "output_type": "stream",
          "name": "stdout",
          "text": [
            "[ 0  0  0  0  0  0  0  0  0  0  0  0  1  1  1  1  1  1  1  1  1  1  2  2\n",
            "  2  2  2  2  2  2  2  2  3  3  3  3  3  3  3  3  4  4  4  4  4  4  4  4\n",
            "  4  4  4  4  5  5  5  5  5  5  5  5  6  6  6  6  6  6  6  6  6  6  7  7\n",
            "  7  7  7  7  7  7  7  7  7  8  8  8  8  8  8  8  8  8  8  8  8  8  8  9\n",
            "  9  9  9  9  9  9  9  9  9  9  9  9 10 10 10 10 10 10 10 10 10 10 10 10\n",
            " 10 10 10 10 11 11 11 11 11 11 11 11 11 11 11 11 12 12 12 12 12 12 12 12\n",
            " 12 12 12 12 12 13 13 13 13 13 13 13 13 13 13 13 13 14 14 14 14 14 14 14\n",
            " 14 14 14 15 15 15 15 15 15 15 15 15 15 15 15 16 16 16 16 16 16 16 16 16\n",
            " 16 16 17 17 17 17 17 17 17 17 17 17 17 17 17 18 18 18 18 18 18 18 18 18\n",
            " 19 19 19 19 19 19 19 19 19 19 19 19 20 20 20 20 20 20 20 20 20 20 20 21\n",
            " 21 21 21 21 21 21 21 21 21 21 21 22 22 22 22 22 22 22 22 22 22 22 22 23\n",
            " 23 23 23 23 23 23 23 23 23 23 23 24 24 24 24 24 24 24 24 24 24 24 25 25\n",
            " 25 25 25 25 25 25 25 25 25 26 26 26 26 26 26 26 26 26 26 26 27 27 27 27\n",
            " 27 27 27 27 27 27 27 28 28 28 28 28 28 28 28 28 28 28 29 29 29 29 29 29\n",
            " 29 29 29 29]\n"
          ]
        }
      ],
      "source": [
        "print(y)"
      ]
    },
    {
      "cell_type": "markdown",
      "source": [
        "Splitting the dataset into training set and test set"
      ],
      "metadata": {
        "id": "XeKr4hgzuRpW"
      }
    },
    {
      "cell_type": "code",
      "execution_count": 18,
      "metadata": {
        "id": "MjIG0y_4sbyS"
      },
      "outputs": [],
      "source": [
        "X_train, X_test, y_train, y_test = train_test_split(X, y, test_size=0.20, random_state=42)"
      ]
    },
    {
      "cell_type": "code",
      "execution_count": 19,
      "metadata": {
        "scrolled": true,
        "colab": {
          "base_uri": "https://localhost:8080/"
        },
        "id": "-h7n9CknsbyT",
        "outputId": "1dc9605f-9325-4da2-efab-df2c52317bce"
      },
      "outputs": [
        {
          "output_type": "stream",
          "name": "stdout",
          "text": [
            "[[8.7163e-01 2.0659e+00 5.5339e-01 ... 6.6921e-03 1.6133e-04 1.4016e+00]\n",
            " [3.9092e-01 1.0870e+00 6.8174e-01 ... 2.1177e-03 2.1044e-04 9.0082e-01]\n",
            " [7.7982e-01 1.6215e+00 3.9222e-01 ... 2.4664e-03 1.4676e-04 6.6975e-01]\n",
            " ...\n",
            " [3.8564e-01 1.0471e+00 2.3328e-01 ... 2.2000e-02 8.6835e-04 1.9757e+00]\n",
            " [4.9634e-01 1.1832e+00 2.2855e-01 ... 5.1731e-03 2.3865e-04 1.1489e+00]\n",
            " [2.3041e-01 1.1294e+00 2.5496e-01 ... 2.4180e-02 4.2353e-04 1.6648e+00]]\n"
          ]
        }
      ],
      "source": [
        "print(X_train)"
      ]
    },
    {
      "cell_type": "code",
      "execution_count": 20,
      "metadata": {
        "scrolled": false,
        "colab": {
          "base_uri": "https://localhost:8080/"
        },
        "id": "T1My31BFsbyT",
        "outputId": "d66cb136-f255-4eec-bba6-51cd2e4d6bd5"
      },
      "outputs": [
        {
          "output_type": "stream",
          "name": "stdout",
          "text": [
            "[[9.9593e-01 1.0120e+01 9.2461e-01 8.0662e-01 9.0702e-01 1.5053e-01\n",
            "  1.2257e-01 2.7342e+00 8.2902e-03 5.2333e-02 2.7313e-03 9.0459e-04\n",
            "  1.5362e-05 2.7303e-01]\n",
            " [5.0692e-01 1.1270e+00 6.7203e-01 5.3024e-01 7.5263e-01 1.6792e-01\n",
            "  1.3006e-01 3.0788e+00 1.5279e-02 5.7592e-02 3.3059e-03 7.2847e-04\n",
            "  1.0983e-04 6.7289e-01]\n",
            " [2.4465e-01 1.0470e+00 6.0511e-01 5.6524e-01 7.9474e-01 2.1788e-01\n",
            "  1.2522e-01 2.8540e+00 3.7595e-02 1.2700e-01 1.5874e-02 6.5870e-03\n",
            "  1.0798e-04 8.3310e-01]\n",
            " [8.6545e-01 1.8803e+00 6.2039e-01 8.2443e-01 8.5439e-01 3.3077e-01\n",
            "  4.7000e-02 4.0204e-01 3.9518e-02 1.1570e-01 1.3210e-02 4.2406e-03\n",
            "  2.0084e-04 1.0136e+00]\n",
            " [8.2866e-01 1.9848e+00 5.0917e-01 9.4180e-01 9.9825e-01 5.5942e-01\n",
            "  2.5524e-02 1.1857e-01 8.0103e-02 1.6692e-01 2.7107e-02 8.6548e-03\n",
            "  4.2650e-04 1.8038e+00]\n",
            " [7.2719e-01 1.4779e+00 3.2980e-01 9.9388e-01 1.0000e+00 8.4230e-01\n",
            "  2.9668e-03 1.6019e-03 2.6340e-02 8.1903e-02 6.6634e-03 1.7846e-03\n",
            "  1.9390e-04 9.8050e-01]\n",
            " [9.6652e-01 3.8162e+00 7.4273e-01 8.2566e-01 9.4737e-01 3.2925e-01\n",
            "  1.4460e-01 3.8052e+00 2.2715e-02 1.0148e-01 1.0193e-02 4.6292e-03\n",
            "  4.4517e-05 5.2175e-01]\n",
            " [9.9456e-01 9.7351e+00 9.0444e-01 9.3346e-01 9.8421e-01 1.9638e-01\n",
            "  2.0897e-02 7.9479e-02 1.6599e-02 7.5247e-02 5.6302e-03 1.9012e-03\n",
            "  4.4410e-05 4.8992e-01]\n",
            " [3.5344e-01 1.0329e+00 7.8147e-01 7.0737e-01 6.1579e-01 1.3503e-01\n",
            "  8.9763e-02 1.4664e+00 9.7663e-02 2.0703e-01 4.1101e-02 1.6123e-02\n",
            "  4.5288e-04 1.6935e+00]\n",
            " [7.0668e-01 1.2510e+00 3.8111e-01 9.4226e-01 9.9825e-01 6.9250e-01\n",
            "  1.9432e-02 6.8724e-02 3.1587e-02 1.1502e-01 1.3056e-02 5.3112e-03\n",
            "  8.6352e-05 7.2247e-01]\n",
            " [8.8374e-01 2.4765e+00 6.1389e-01 8.5810e-01 9.8246e-01 4.0448e-01\n",
            "  5.4511e-02 5.4081e-01 6.4890e-02 1.4657e-01 2.1032e-02 6.7378e-03\n",
            "  3.7204e-04 1.6461e+00]\n",
            " [5.8950e-01 1.2708e+00 2.4364e-01 9.8173e-01 9.9649e-01 8.2082e-01\n",
            "  7.4388e-03 1.0071e-02 4.1688e-02 1.1576e-01 1.3223e-02 4.1000e-03\n",
            "  2.5724e-04 1.1105e+00]\n",
            " [8.0393e-01 1.8829e+00 4.6980e-01 9.3066e-01 9.9298e-01 5.8011e-01\n",
            "  4.3787e-02 3.4894e-01 1.0183e-02 6.1975e-02 3.8262e-03 1.4329e-03\n",
            "  1.8914e-05 2.8509e-01]\n",
            " [9.3802e-01 2.8087e+00 6.5774e-01 9.7091e-01 1.0000e+00 5.8194e-01\n",
            "  6.7321e-03 8.2485e-03 5.2218e-02 1.3491e-01 1.7874e-02 5.7374e-03\n",
            "  3.0246e-04 1.2161e+00]\n",
            " [5.4893e-01 1.1111e+00 6.3983e-01 5.6623e-01 6.0000e-01 1.5743e-01\n",
            "  1.3081e-01 3.1143e+00 2.1231e-02 7.9722e-02 6.3155e-03 1.9123e-03\n",
            "  7.3919e-05 7.1949e-01]\n",
            " [9.0557e-01 2.3423e+00 5.8487e-01 9.5943e-01 9.7368e-01 5.5537e-01\n",
            "  2.3542e-02 1.0087e-01 4.5897e-02 1.3433e-01 1.7724e-02 6.6757e-03\n",
            "  2.4528e-04 9.9430e-01]\n",
            " [5.2382e-01 1.1117e+00 6.7175e-01 5.4701e-01 6.2982e-01 1.5157e-01\n",
            "  1.3674e-01 3.4028e+00 2.6434e-02 8.5792e-02 7.3064e-03 2.1373e-03\n",
            "  1.6583e-04 9.0513e-01]\n",
            " [9.3847e-01 3.0198e+00 6.7312e-01 9.8733e-01 1.0000e+00 5.3234e-01\n",
            "  7.6393e-03 1.0621e-02 7.6290e-02 1.8017e-01 3.1440e-02 1.1932e-02\n",
            "  7.2251e-04 1.2434e+00]\n",
            " [5.5518e-01 1.2318e+00 2.5226e-01 9.4783e-01 9.9123e-01 5.4965e-01\n",
            "  1.5115e-02 4.1582e-02 5.9148e-02 1.3996e-01 1.9211e-02 5.7336e-03\n",
            "  4.2099e-04 1.3579e+00]\n",
            " [9.0631e-01 2.3906e+00 5.8336e-01 9.7683e-01 9.9825e-01 6.6419e-01\n",
            "  8.4019e-03 1.2848e-02 7.0096e-03 4.2347e-02 1.7901e-03 4.5889e-04\n",
            "  2.8251e-05 2.8082e-01]\n",
            " [9.9698e-01 1.0913e+01 9.3836e-01 7.0085e-01 9.3684e-01 1.1552e-01\n",
            "  1.5334e-01 4.2796e+00 1.0649e-02 5.5629e-02 3.0851e-03 8.9618e-04\n",
            "  3.6128e-05 3.7415e-01]\n",
            " [5.2744e-01 1.0419e+00 5.1662e-01 7.7201e-01 8.4211e-01 3.3784e-01\n",
            "  1.1438e-01 2.3811e+00 2.5400e-02 8.2047e-02 6.6868e-03 1.7982e-03\n",
            "  1.2196e-04 9.4400e-01]\n",
            " [5.3622e-01 1.2341e+00 4.4979e-01 7.8820e-01 9.4386e-01 3.8426e-01\n",
            "  7.2253e-02 9.5013e-01 4.2992e-02 1.2337e-01 1.4993e-02 5.6501e-03\n",
            "  1.3103e-04 1.2646e+00]\n",
            " [3.6462e-01 1.0811e+00 6.7755e-01 4.9042e-01 6.8772e-01 1.4118e-01\n",
            "  1.2430e-01 2.8118e+00 3.7866e-02 1.1692e-01 1.3485e-02 4.6475e-03\n",
            "  1.7690e-04 9.2290e-01]\n",
            " [7.0275e-01 1.5016e+00 3.4772e-01 9.8776e-01 9.9825e-01 8.0848e-01\n",
            "  3.7534e-03 2.5640e-03 5.5512e-02 1.2613e-01 1.5659e-02 4.0220e-03\n",
            "  5.0106e-04 1.4395e+00]\n",
            " [4.6098e-01 1.2199e+00 3.2967e-01 9.0459e-01 1.0000e+00 5.6329e-01\n",
            "  2.7061e-02 1.3328e-01 9.2156e-02 1.8249e-01 3.2230e-02 1.0076e-02\n",
            "  9.0962e-04 1.7156e+00]\n",
            " [5.1247e-01 1.1116e+00 6.5626e-01 5.7724e-01 5.9298e-01 1.6867e-01\n",
            "  1.1187e-01 2.2776e+00 1.6001e-02 6.1238e-02 3.7361e-03 8.7861e-04\n",
            "  1.0284e-04 6.5080e-01]\n",
            " [8.3029e-01 1.6330e+00 4.9437e-01 9.2597e-01 9.6842e-01 6.2529e-01\n",
            "  4.5331e-02 3.7399e-01 1.3423e-01 2.6480e-01 6.5523e-02 2.9786e-02\n",
            "  7.4416e-04 1.7493e+00]\n",
            " [7.3935e-01 1.5319e+00 3.4987e-01 9.8479e-01 1.0000e+00 8.1067e-01\n",
            "  7.8079e-03 1.1095e-02 2.7888e-02 1.1472e-01 1.2990e-02 6.0166e-03\n",
            "  5.0098e-05 5.9895e-01]\n",
            " [9.9505e-01 1.0736e+01 9.0851e-01 9.2586e-01 9.9649e-01 1.8236e-01\n",
            "  2.8571e-02 1.4856e-01 1.7761e-02 6.9610e-02 4.8222e-03 1.3129e-03\n",
            "  1.3111e-04 5.9218e-01]\n",
            " [9.1747e-01 2.7054e+00 6.4091e-01 8.7687e-01 9.8947e-01 4.2531e-01\n",
            "  8.9364e-02 1.4534e+00 4.2216e-02 1.2098e-01 1.4424e-02 4.7692e-03\n",
            "  3.0610e-04 1.0097e+00]\n",
            " [5.3017e-01 1.2503e+00 2.3254e-01 9.7337e-01 1.0000e+00 8.2703e-01\n",
            "  6.6263e-03 7.9913e-03 4.8541e-02 1.0941e-01 1.1828e-02 2.7809e-03\n",
            "  4.8839e-04 1.5452e+00]\n",
            " [5.4913e-01 1.2769e+00 3.1283e-01 9.3889e-01 9.9123e-01 5.9330e-01\n",
            "  4.1539e-02 3.1404e-01 1.5188e-01 2.6050e-01 6.3550e-02 2.3790e-02\n",
            "  8.4300e-04 2.2030e+00]\n",
            " [9.9530e-01 1.0630e+01 9.0598e-01 8.8866e-01 9.5789e-01 1.5967e-01\n",
            "  2.5636e-02 1.1961e-01 1.4782e-02 6.5416e-02 4.2611e-03 1.2831e-03\n",
            "  6.4365e-05 5.2178e-01]\n",
            " [9.8643e-01 6.1273e+00 8.4737e-01 9.5274e-01 8.9649e-01 2.9982e-01\n",
            "  1.9421e-02 6.8643e-02 2.8986e-02 9.5642e-02 9.0645e-03 2.7526e-03\n",
            "  1.4425e-04 8.2529e-01]\n",
            " [7.2997e-01 1.4892e+00 3.4284e-01 9.8755e-01 1.0000e+00 8.4482e-01\n",
            "  4.9451e-03 4.4506e-03 1.0487e-02 5.8528e-02 3.4138e-03 1.1248e-03\n",
            "  2.4798e-05 3.4068e-01]\n",
            " [7.5535e-01 1.6662e+00 4.0650e-01 9.7627e-01 1.0000e+00 7.5126e-01\n",
            "  9.8445e-03 1.7638e-02 2.0477e-02 9.0520e-02 8.1274e-03 3.1335e-03\n",
            "  1.2137e-04 4.3910e-01]\n",
            " [9.1861e-01 2.8114e+00 6.4707e-01 9.4843e-01 9.5614e-01 5.1186e-01\n",
            "  4.5037e-02 3.6915e-01 4.1345e-02 1.3297e-01 1.7374e-02 7.0233e-03\n",
            "  1.8923e-04 8.3183e-01]\n",
            " [4.3425e-01 1.0950e+00 6.8828e-01 5.2398e-01 5.4211e-01 1.5396e-01\n",
            "  1.3761e-01 3.4462e+00 2.1147e-02 7.3202e-02 5.3299e-03 1.3400e-03\n",
            "  1.6376e-04 7.5496e-01]\n",
            " [9.8717e-01 6.5173e+00 8.4726e-01 9.6846e-01 1.0000e+00 2.8899e-01\n",
            "  2.2056e-02 8.8540e-02 4.2124e-02 1.1842e-01 1.3829e-02 4.3818e-03\n",
            "  2.0215e-04 1.0980e+00]\n",
            " [5.8938e-01 1.3232e+00 4.0145e-01 8.9009e-01 9.8421e-01 4.3977e-01\n",
            "  4.7907e-02 4.1770e-01 1.1488e-01 1.9211e-01 3.5592e-02 9.1838e-03\n",
            "  1.5424e-03 2.1004e+00]\n",
            " [7.3797e-01 1.4597e+00 3.5376e-01 9.7566e-01 1.0000e+00 8.1697e-01\n",
            "  6.8768e-03 8.6068e-03 1.5950e-02 6.5491e-02 4.2707e-03 1.1544e-03\n",
            "  6.6272e-05 5.8785e-01]\n",
            " [8.9507e-01 2.2045e+00 5.5605e-01 9.7701e-01 9.9649e-01 6.4214e-01\n",
            "  5.3433e-03 5.1962e-03 1.0200e-01 1.9598e-01 3.6988e-02 1.2562e-02\n",
            "  4.8437e-04 2.0484e+00]\n",
            " [6.0267e-01 1.2540e+00 2.0587e-01 9.8883e-01 1.0000e+00 8.0193e-01\n",
            "  8.4333e-03 1.2944e-02 1.7777e-02 6.1786e-02 3.8030e-03 9.1963e-04\n",
            "  1.5231e-04 8.5839e-01]\n",
            " [8.9493e-01 2.0494e+00 6.4925e-01 8.1682e-01 8.3509e-01 3.5318e-01\n",
            "  4.9955e-02 4.5418e-01 4.1808e-02 1.2036e-01 1.4280e-02 4.8007e-03\n",
            "  1.7096e-04 1.0962e+00]\n",
            " [9.9518e-01 1.0421e+01 9.0385e-01 9.6551e-01 9.8947e-01 2.0051e-01\n",
            "  7.7228e-03 1.0855e-02 2.1258e-02 8.0385e-02 6.4203e-03 1.9168e-03\n",
            "  9.5565e-05 6.6405e-01]\n",
            " [8.6224e-01 2.0735e+00 5.2269e-01 9.8686e-01 9.9474e-01 7.0529e-01\n",
            "  1.0097e-02 1.8554e-02 4.1404e-02 1.2163e-01 1.4579e-02 4.8689e-03\n",
            "  2.7608e-04 9.4580e-01]\n",
            " [7.8676e-01 1.6815e+00 4.1383e-01 9.7686e-01 9.9825e-01 7.6860e-01\n",
            "  1.3524e-02 3.3289e-02 1.6538e-02 7.6334e-02 5.7932e-03 1.9786e-03\n",
            "  7.0661e-05 4.3227e-01]\n",
            " [9.8326e-01 5.8308e+00 8.2878e-01 9.6489e-01 1.0000e+00 3.0777e-01\n",
            "  1.4672e-02 3.9178e-02 1.9278e-02 7.3118e-02 5.3178e-03 1.4657e-03\n",
            "  9.7882e-05 6.6403e-01]\n",
            " [6.2011e-01 1.3298e+00 2.8360e-01 9.6952e-01 9.9825e-01 7.7871e-01\n",
            "  8.6562e-03 1.3637e-02 4.7220e-02 1.1860e-01 1.3872e-02 3.7549e-03\n",
            "  4.4188e-04 1.2024e+00]\n",
            " [9.1090e-01 2.5488e+00 6.1060e-01 9.7388e-01 9.9825e-01 5.5818e-01\n",
            "  1.9720e-02 7.0775e-02 1.0132e-01 1.7022e-01 2.8158e-02 7.4614e-03\n",
            "  1.0974e-03 2.3847e+00]\n",
            " [9.3396e-01 2.9367e+00 6.6689e-01 9.2543e-01 9.9474e-01 4.5676e-01\n",
            "  3.0052e-02 1.6437e-01 1.5159e-02 7.1198e-02 5.0436e-03 1.7096e-03\n",
            "  4.8527e-05 4.6762e-01]\n",
            " [5.3283e-01 1.3078e+00 2.5925e-01 9.6727e-01 1.0000e+00 7.7065e-01\n",
            "  1.7745e-02 5.7312e-02 5.3410e-02 1.2259e-01 1.4806e-02 3.5923e-03\n",
            "  1.2358e-03 1.1886e+00]\n",
            " [5.3941e-01 1.2780e+00 3.2286e-01 9.1793e-01 9.7368e-01 6.3545e-01\n",
            "  3.4884e-02 2.2147e-01 6.0967e-02 1.5124e-01 2.2362e-02 7.6389e-03\n",
            "  4.3953e-04 1.2541e+00]\n",
            " [8.2602e-01 1.6637e+00 4.9244e-01 8.8620e-01 9.9298e-01 5.7136e-01\n",
            "  2.2152e-02 8.9306e-02 3.4444e-02 1.0120e-01 1.0138e-02 3.0708e-03\n",
            "  1.6513e-04 1.1047e+00]\n",
            " [6.3680e-01 1.4266e+00 2.9976e-01 9.7470e-01 9.9825e-01 7.8457e-01\n",
            "  1.3385e-02 3.2608e-02 2.8272e-02 8.4495e-02 7.0888e-03 1.7155e-03\n",
            "  3.1351e-04 9.1300e-01]\n",
            " [6.3965e-01 1.2323e+00 6.0663e-01 7.7037e-01 6.2105e-01 2.4135e-01\n",
            "  1.2438e-01 2.8155e+00 2.5438e-02 9.6215e-02 9.1723e-03 3.4208e-03\n",
            "  5.1566e-05 7.5194e-01]\n",
            " [3.6870e-01 1.0456e+00 7.7124e-01 7.4413e-01 7.7368e-01 2.2278e-01\n",
            "  7.5187e-02 1.0289e+00 7.4488e-02 1.7993e-01 3.1359e-02 1.2414e-02\n",
            "  3.4690e-04 1.3541e+00]\n",
            " [3.7522e-01 1.1417e+00 8.1725e-01 6.8511e-01 5.8772e-01 1.2523e-01\n",
            "  9.1860e-02 1.5358e+00 1.1488e-01 2.0861e-01 4.1703e-02 1.3344e-02\n",
            "  8.2033e-04 2.0281e+00]\n",
            " [9.0944e-01 2.1139e+00 6.9555e-01 8.0873e-01 8.5263e-01 3.1039e-01\n",
            "  4.7267e-02 4.0663e-01 3.9446e-02 1.0517e-01 1.0939e-02 2.8913e-03\n",
            "  2.9366e-04 1.1602e+00]\n",
            " [7.3067e-01 1.5145e+00 3.4921e-01 9.8686e-01 1.0000e+00 8.1119e-01\n",
            "  1.7693e-02 5.6975e-02 8.1485e-02 1.6841e-01 2.7580e-02 8.1927e-03\n",
            "  8.4762e-04 1.5520e+00]\n",
            " [6.5119e-01 1.4026e+00 3.0387e-01 9.7990e-01 1.0000e+00 8.0081e-01\n",
            "  8.2573e-03 1.2409e-02 1.0567e-01 1.8500e-01 3.3093e-02 8.7245e-03\n",
            "  1.3911e-03 1.9632e+00]\n",
            " [9.9515e-01 1.0007e+01 9.0328e-01 9.1594e-01 9.7719e-01 1.6244e-01\n",
            "  3.3129e-02 1.9975e-01 1.7258e-02 7.0646e-02 4.9660e-03 1.4641e-03\n",
            "  7.1555e-05 5.9946e-01]\n",
            " [9.1885e-01 2.6380e+00 6.2859e-01 9.6692e-01 9.9123e-01 5.2269e-01\n",
            "  2.0081e-02 7.3390e-02 5.4145e-02 1.6740e-01 2.7257e-02 1.3322e-02\n",
            "  1.6644e-04 8.9890e-01]\n",
            " [7.1573e-01 1.3808e+00 3.7798e-01 9.5035e-01 9.9123e-01 6.8138e-01\n",
            "  2.5077e-02 1.1445e-01 1.0429e-01 2.3183e-01 5.1004e-02 2.3571e-02\n",
            "  4.4425e-04 1.5025e+00]\n",
            " [9.8853e-01 6.6280e+00 8.4928e-01 9.6861e-01 9.7719e-01 2.7717e-01\n",
            "  2.9032e-02 1.5340e-01 3.2722e-02 1.0283e-01 1.0462e-02 3.3387e-03\n",
            "  1.3116e-04 9.4985e-01]\n",
            " [9.8695e-01 6.2904e+00 8.4124e-01 9.7085e-01 1.0000e+00 2.9288e-01\n",
            "  2.3221e-02 9.8140e-02 2.5859e-02 8.9821e-02 8.0032e-03 2.4919e-03\n",
            "  9.7883e-05 8.1120e-01]\n",
            " [9.1852e-01 2.5247e+00 6.1648e-01 9.7870e-01 1.0000e+00 6.3037e-01\n",
            "  5.0494e-03 4.6404e-03 2.3090e-02 8.2029e-02 6.6839e-03 1.8929e-03\n",
            "  1.2452e-04 7.1713e-01]]\n"
          ]
        }
      ],
      "source": [
        "print(X_test)"
      ]
    },
    {
      "cell_type": "code",
      "execution_count": 21,
      "metadata": {
        "colab": {
          "base_uri": "https://localhost:8080/"
        },
        "id": "qJrXN658sbyT",
        "outputId": "f33451cc-85f5-4c8a-d2a3-75367c749264"
      },
      "outputs": [
        {
          "output_type": "stream",
          "name": "stdout",
          "text": [
            "[ 6 10  0 12 28 26 26  7 12 17 22  6  9 23  8 17 12  1  2 24 12 19 21 23\n",
            " 18 21 13 18  1 17  7 28  1 12 28  2 21 20 14 21 12 15  5 10 11  1  0 26\n",
            " 19  8  2  2 25 26  5 16  0 20 21  8 28 17 20 14 19 15  8  6 20  9 24  9\n",
            " 15  6  2  3 10  6 23 13 11 12 17  8 25 21 25 13 22 14 20 26 22 11  3 22\n",
            " 20 15 10 23 19 10 27 28 21 26 14 17 19 13 19  0 10 16 19 10 22 25 11  7\n",
            "  2  8 24  9 16 24 11 16 21  4 27  6 22  8 16  7 13  1  3  2 14 12 21 11\n",
            " 24  4  9 22 15 17 10  4  8 23 17 12  2 29 12 24  0  0 26 25 28  9 19 16\n",
            " 25 19 18  9 15  9  3 18  6 13  4  3 24  0 29 17 26  2 23 21 20 14 25 12\n",
            "  6 11 11  0  6  1 13  4 27 28 19 25 20 18 18 27 22 29 27 23 17 14  4 19\n",
            " 16 22  9  5  0  4  7 17  3 23  8  5 23 21  1  8 23 14 29 11 28 21  5  4\n",
            " 15 16 29 16 14  5  4 20 22  1 27 13 24 16 25 22 27 13 11 13  9  8 29 18\n",
            " 10 29  1 16  7  9 23  9]\n"
          ]
        }
      ],
      "source": [
        "print(y_train)"
      ]
    },
    {
      "cell_type": "code",
      "execution_count": 22,
      "metadata": {
        "colab": {
          "base_uri": "https://localhost:8080/"
        },
        "id": "bUzJM_--sbyU",
        "outputId": "a07f3107-61ad-422c-f913-10b73b693ca2"
      },
      "outputs": [
        {
          "output_type": "stream",
          "name": "stdout",
          "text": [
            "[24 10 10  4 11 20 15 24 29  2 11 19 22 13 10 15 10 28 23  0 24  5 14 10\n",
            " 12  8 10 18 12 27 15  3  9 27  7  0 26 28 10  7  8  0 13 20  4 27 25 25\n",
            "  7  3 28 15 17  8  6 17  5 29 29  4 26 26 27 15 18  7  7  1]\n"
          ]
        }
      ],
      "source": [
        "print(y_test)"
      ]
    },
    {
      "cell_type": "markdown",
      "source": [
        "Feature scaling"
      ],
      "metadata": {
        "id": "8N8-PrX5uYgn"
      }
    },
    {
      "cell_type": "code",
      "execution_count": 23,
      "metadata": {
        "id": "-vCqy5NCsbyU"
      },
      "outputs": [],
      "source": [
        "sc = StandardScaler()\n",
        "X_train[:, :] = sc.fit_transform(X_train[:, :])\n",
        "X_test[:, :] = sc.transform(X_test[:, :])"
      ]
    },
    {
      "cell_type": "code",
      "execution_count": 24,
      "metadata": {
        "colab": {
          "base_uri": "https://localhost:8080/"
        },
        "id": "Q9gU4GhOsbyU",
        "outputId": "232cfd9e-a06c-4655-807f-34ee04194ac4"
      },
      "outputs": [
        {
          "output_type": "stream",
          "name": "stdout",
          "text": [
            "[[ 0.76163594 -0.09999249  0.28756748 ...  0.12964517 -0.54447525\n",
            "   0.34892358]\n",
            " [-1.54720948 -0.48953753  0.96697955 ... -0.75242946 -0.43518234\n",
            "  -0.48890675]\n",
            " [ 0.32067341 -0.27683774 -0.56557506 ... -0.68519017 -0.57690037\n",
            "  -0.87549857]\n",
            " ...\n",
            " [-1.57256927 -0.5054154  -1.40691323 ...  3.08144437  1.02897767\n",
            "   1.30942198]\n",
            " [-1.04087825 -0.45125555 -1.43195117 ... -0.1632613  -0.37240178\n",
            "  -0.07385633]\n",
            " [-2.31813743 -0.47266481 -1.29215162 ...  3.50181047  0.0390434\n",
            "   0.78927052]]\n"
          ]
        }
      ],
      "source": [
        "print(X_train)"
      ]
    },
    {
      "cell_type": "code",
      "execution_count": 25,
      "metadata": {
        "colab": {
          "base_uri": "https://localhost:8080/"
        },
        "id": "lsCY8gPcsbyV",
        "outputId": "f56187b4-9493-47bd-b2b1-0e66acfb9b45"
      },
      "outputs": [
        {
          "output_type": "stream",
          "name": "stdout",
          "text": [
            "[[ 1.35864762e+00  3.10506906e+00  2.25259553e+00 -9.70838256e-01\n",
            "  -3.76868278e-01 -1.89570817e+00  2.37951287e+00  2.26641625e+00\n",
            "  -1.22313269e+00 -1.42133641e+00 -1.12200236e+00 -9.86351627e-01\n",
            "  -8.69322882e-01 -1.53923124e+00]\n",
            " [-9.90062617e-01 -4.73619866e-01  9.15580323e-01 -3.55530582e+00\n",
            "  -1.77293671e+00 -1.81221115e+00  2.58400054e+00  2.61172239e+00\n",
            "  -1.03112097e+00 -1.32002515e+00 -1.07996110e+00 -1.02031258e+00\n",
            "  -6.59087033e-01 -8.70245192e-01]\n",
            " [-2.24974285e+00 -5.05455195e-01  5.61343812e-01 -3.22801598e+00\n",
            "  -1.39215789e+00 -1.57233126e+00  2.45186165e+00  2.38646174e+00\n",
            "  -4.18006607e-01  1.70753024e-02 -1.60401773e-01  1.09378897e-01\n",
            "  -6.63204155e-01 -6.02205740e-01]\n",
            " [ 7.31953456e-01 -1.73850449e-01  6.42227463e-01 -8.04294486e-01\n",
            "  -8.52773983e-01 -1.03029681e+00  3.16344225e-01 -7.05226962e-02\n",
            "  -3.65173710e-01 -2.00611926e-01 -3.55316362e-01 -3.43073865e-01\n",
            "  -4.56546865e-01 -3.00220090e-01]\n",
            " [ 5.55251447e-01 -1.32265551e-01  5.34918880e-02  2.93248598e-01\n",
            "   4.48077141e-01  6.75522220e-02 -2.69981167e-01 -3.54573569e-01\n",
            "   7.49866904e-01  7.86108415e-01  6.61473446e-01  5.08109642e-01\n",
            "   4.56530515e-02  1.02182457e+00]\n",
            " [ 6.78920321e-02 -3.33982154e-01 -8.95991119e-01  7.80255873e-01\n",
            "   4.63901480e-01  1.42578329e+00 -8.85824858e-01 -4.71781354e-01\n",
            "  -7.27228785e-01 -8.51689384e-01 -8.34305796e-01 -8.16660630e-01\n",
            "  -4.71991637e-01 -3.55598068e-01]\n",
            " [ 1.21739167e+00  5.96524718e-01  1.28982601e+00 -7.92792586e-01\n",
            "  -1.20042242e-02 -1.03759499e+00  2.98096325e+00  3.33961089e+00\n",
            "  -8.26822779e-01 -4.74551076e-01 -5.76058598e-01 -2.68140715e-01\n",
            "  -8.04439258e-01 -1.12311007e+00]\n",
            " [ 1.35206752e+00  2.95190133e+00  2.14582699e+00  2.15260106e-01\n",
            "   3.21120726e-01 -1.67556219e+00 -3.96304858e-01 -3.93744672e-01\n",
            "  -9.94855017e-01 -9.79912941e-01 -9.09901049e-01 -7.94176828e-01\n",
            "  -8.04677384e-01 -1.17636328e+00]\n",
            " [-1.72722555e+00 -5.11066172e-01  1.49489359e+00 -1.89893872e+00\n",
            "  -3.01030963e+00 -1.97013048e+00  1.48383504e+00  9.96018337e-01\n",
            "   1.23231395e+00  1.55880175e+00  1.68536037e+00  1.94819135e+00\n",
            "   1.04360992e-01  8.37287077e-01]\n",
            " [-3.06172967e-02 -4.24275106e-01 -6.24385092e-01  2.97550122e-01\n",
            "   4.48077141e-01  7.06527725e-01 -4.36301444e-01 -4.04521711e-01\n",
            "  -5.83071631e-01 -2.13711689e-01 -3.66583947e-01 -1.36631687e-01\n",
            "  -7.11336655e-01 -7.87295338e-01]\n",
            " [ 8.19800146e-01  6.34023400e-02  6.07820151e-01 -4.89441665e-01\n",
            "   3.05296387e-01 -6.76382737e-01  5.21405224e-01  6.85316643e-02\n",
            "   3.31901822e-01  3.94078759e-01  2.16989163e-01  1.38457433e-01\n",
            "  -7.55461306e-02  7.57984474e-01]\n",
            " [-5.93431687e-01 -4.16395862e-01 -1.35207327e+00  6.66639544e-01\n",
            "   4.32162377e-01  1.32264838e+00 -7.63732888e-01 -4.63294900e-01\n",
            "  -3.05554685e-01 -1.99456065e-01 -3.54365202e-01 -3.70185551e-01\n",
            "  -3.31030268e-01 -1.38101477e-01]\n",
            " [ 4.36473499e-01 -1.72815801e-01 -1.54910554e-01  1.89076919e-01\n",
            "   4.00423273e-01  1.66893995e-01  2.28624748e-01 -1.23731506e-01\n",
            "  -1.17112952e+00 -1.23558948e+00 -1.04189276e+00 -8.84478409e-01\n",
            "  -8.61418007e-01 -1.51905425e+00]\n",
            " [ 1.08050645e+00  1.95598544e-01  8.39937171e-01  5.65460230e-01\n",
            "   4.63901480e-01  1.75680628e-01 -7.83026805e-01 -4.65121134e-01\n",
            "  -1.62513054e-02  1.69456362e-01 -1.40694985e-02 -5.44481859e-02\n",
            "  -2.30394443e-01  3.85726758e-02]\n",
            " [-7.88288999e-01 -4.79947138e-01  7.45131793e-01 -3.21875836e+00\n",
            "  -3.15309038e+00 -1.86257824e+00  2.60447661e+00  2.64729513e+00\n",
            "  -8.67594499e-01 -8.93704945e-01 -8.59760295e-01 -7.92036432e-01\n",
            "  -7.39005943e-01 -7.92281029e-01]\n",
            " [ 9.24649422e-01  9.99857562e-03  4.54204736e-01  4.58109164e-01\n",
            "   2.25903416e-01  4.81063941e-02 -3.24092590e-01 -3.72309839e-01\n",
            "  -1.89915756e-01  1.58283036e-01 -2.50444191e-02  1.26482784e-01\n",
            "  -3.57646908e-01 -3.32509968e-01]\n",
            " [-9.08892083e-01 -4.79708373e-01  9.14098161e-01 -3.39848723e+00\n",
            "  -2.88344364e+00 -1.89071468e+00  2.76637405e+00  2.93638631e+00\n",
            "  -7.24646210e-01 -7.76770301e-01 -7.87259970e-01 -7.48650022e-01\n",
            "  -5.34460625e-01 -4.81695899e-01]\n",
            " [ 1.08266780e+00  2.79604018e-01  9.21350164e-01  7.19005918e-01\n",
            "   4.63901480e-01 -6.24707462e-02 -7.58258952e-01 -4.62743773e-01\n",
            "   6.45107760e-01  1.04136114e+00  9.78502318e-01  1.14004716e+00\n",
            "   7.04414893e-01  8.42469598e-02]\n",
            " [-7.58270310e-01 -4.31915585e-01 -1.30644388e+00  3.49635961e-01\n",
            "   3.84598934e-01  2.06421630e-02 -5.54161694e-01 -4.31719329e-01\n",
            "   1.74144936e-01  2.66741363e-01  8.37536269e-02 -5.51809342e-02\n",
            "   3.33907031e-02  2.75811264e-01]\n",
            " [ 9.28203635e-01  2.92191555e-02  4.46211653e-01  6.20818967e-01\n",
            "   4.48077141e-01  5.70598986e-01 -7.37438886e-01 -4.60512209e-01\n",
            "  -1.25831616e+00 -1.61371027e+00 -1.19086633e+00 -1.07229528e+00\n",
            "  -8.40638779e-01 -1.52619818e+00]\n",
            " [ 1.36369076e+00  3.42063675e+00  2.32538023e+00 -1.95990814e+00\n",
            "  -1.07221535e-01 -2.06380655e+00  3.21957770e+00  3.81498301e+00\n",
            "  -1.15832654e+00 -1.35784109e+00 -1.09611618e+00 -9.87973314e-01\n",
            "  -8.23108739e-01 -1.37005236e+00]\n",
            " [-8.91505258e-01 -5.07484697e-01  9.29279609e-02 -1.29448115e+00\n",
            "  -9.63815633e-01 -9.96350632e-01  2.15591420e+00  1.91259269e+00\n",
            "  -7.53054538e-01 -8.48915316e-01 -8.32593708e-01 -8.14038162e-01\n",
            "  -6.32092063e-01 -4.16664418e-01]\n",
            " [-8.49335004e-01 -4.31000319e-01 -2.60832140e-01 -1.14308622e+00\n",
            "  -4.37433278e-02 -7.73467834e-01  1.00578710e+00  4.78690423e-01\n",
            "  -2.69728322e-01 -5.28543118e-02 -2.24861140e-01 -7.12821128e-02\n",
            "  -6.11907036e-01  1.19715634e-01]\n",
            " [-1.67352812e+00 -4.91885386e-01  9.44800071e-01 -3.92766814e+00\n",
            "  -2.35988407e+00 -1.94060163e+00  2.42674433e+00  2.34417526e+00\n",
            "  -4.10561097e-01 -1.77109411e-01 -3.35195674e-01 -2.64611954e-01\n",
            "  -5.09824654e-01 -4.51965788e-01]\n",
            " [-4.94930481e-02 -3.24550938e-01 -8.01132807e-01  7.23026907e-01\n",
            "   4.48077141e-01  1.26339862e+00 -8.64349558e-01 -4.70817283e-01\n",
            "   7.42487262e-02  3.15312188e-04 -1.76132492e-01 -3.85226173e-01\n",
            "   2.11584212e-01  4.12332201e-01]\n",
            " [-1.21071199e+00 -4.36651090e-01 -8.96679265e-01 -5.47072523e-02\n",
            "   4.63901480e-01  8.61337910e-02 -2.28018877e-01 -3.39833426e-01\n",
            "   1.08101350e+00  1.08605445e+00  1.03630357e+00  7.82157488e-01\n",
            "   1.12082288e+00  8.74261498e-01]\n",
            " [-9.63406021e-01 -4.79748167e-01  8.32102890e-01 -3.11580232e+00\n",
            "  -3.21656859e+00 -1.80861007e+00  2.08738763e+00  1.80888061e+00\n",
            "  -1.01128459e+00 -1.24978731e+00 -1.04848503e+00 -9.91361311e-01\n",
            "  -6.74643079e-01 -9.07202882e-01]\n",
            " [ 5.63080321e-01 -2.72261410e-01 -2.48509146e-02  1.45220081e-01\n",
            "   1.78339973e-01  3.83823009e-01  2.70778147e-01 -9.86301749e-02\n",
            "   2.23696320e+00  2.67170363e+00  3.47222377e+00  4.58280697e+00\n",
            "   7.52596353e-01  9.30643306e-01]\n",
            " [ 1.26296393e-01 -3.12493307e-01 -7.89751926e-01  6.95254027e-01\n",
            "   4.63901480e-01  1.27391377e+00 -7.53655932e-01 -4.62268801e-01\n",
            "  -6.84698716e-01 -2.19490996e-01 -3.71412912e-01 -6.10472304e-04\n",
            "  -7.92018901e-01 -9.93950560e-01]\n",
            " [ 1.35442098e+00  3.35020109e+00  2.16737127e+00  1.44191456e-01\n",
            "   4.32162377e-01 -1.74287837e+00 -1.86793726e-01 -3.24522115e-01\n",
            "  -9.62929991e-01 -1.08850612e+00 -9.69019287e-01 -9.07617827e-01\n",
            "  -6.11728998e-01 -1.00527711e+00]\n",
            " [ 9.81805006e-01  1.54491175e-01  7.50848700e-01 -3.13920802e-01\n",
            "   3.68684169e-01 -5.76368763e-01  1.47294177e+00  9.82991698e-01\n",
            "  -2.91048305e-01 -9.88961239e-02 -2.66492672e-01 -2.41144727e-01\n",
            "  -2.22293726e-01 -3.06744987e-01]\n",
            " [-8.78393095e-01 -4.24553665e-01 -1.41083037e+00  5.88464029e-01\n",
            "   4.63901480e-01  1.35246531e+00 -7.85915295e-01 -4.65378861e-01\n",
            "  -1.17273958e-01 -3.21784729e-01 -4.56431964e-01 -6.24545608e-01\n",
            "   1.83387487e-01  5.89173659e-01]\n",
            " [-7.87328401e-01 -4.13968418e-01 -9.85820670e-01  2.66036786e-01\n",
            "   3.84598934e-01  2.30224975e-01  1.67251146e-01 -1.58703021e-01\n",
            "   2.72188292e+00  2.58886690e+00  3.32786698e+00  3.42660736e+00\n",
            "   9.72561964e-01  1.68970641e+00]\n",
            " [ 1.35562173e+00  3.30801928e+00  2.15397888e+00 -2.03670883e-01\n",
            "   8.31226618e-02 -1.85182302e+00 -2.66923407e-01 -3.53531438e-01\n",
            "  -1.04477565e+00 -1.16930083e+00 -1.01007281e+00 -9.13364116e-01\n",
            "  -7.60268098e-01 -1.12305988e+00]\n",
            " [ 1.31301921e+00  1.51620758e+00  1.84373080e+00  3.95550049e-01\n",
            "  -4.72085589e-01 -1.17890134e+00 -4.36601760e-01 -4.04602877e-01\n",
            "  -6.54532038e-01 -5.87016389e-01 -6.58626584e-01 -6.30002654e-01\n",
            "  -5.82486301e-01 -6.15272266e-01]\n",
            " [ 8.12443449e-02 -3.29485414e-01 -8.26964758e-01  7.21063168e-01\n",
            "   4.63901480e-01  1.43788291e+00 -8.31814450e-01 -4.68926817e-01\n",
            "  -1.16277736e+00 -1.30199372e+00 -1.07206648e+00 -9.43888865e-01\n",
            "  -8.48323332e-01 -1.42604936e+00]\n",
            " [ 2.03144236e-01 -2.59049749e-01 -4.89984838e-01  6.15582330e-01\n",
            "   4.63901480e-01  9.88660280e-01 -6.98053851e-01 -4.55712394e-01\n",
            "  -8.88310050e-01 -6.85688423e-01 -7.27190571e-01 -5.56554283e-01\n",
            "  -6.33405091e-01 -1.26138771e+00]\n",
            " [ 9.87280414e-01  1.96672986e-01  7.83456245e-01  3.55246644e-01\n",
            "   6.72983224e-02 -1.60804217e-01  2.62751529e-01 -1.03480093e-01\n",
            "  -3.14978338e-01  1.32083511e-01 -5.06525671e-02  1.93509966e-01\n",
            "  -4.82384590e-01 -6.04330514e-01]\n",
            " [-1.33909591e+00 -4.86353998e-01  1.00159860e+00 -3.61384394e+00\n",
            "  -3.67655953e+00 -1.87923924e+00  2.79012629e+00  2.97987524e+00\n",
            "  -8.69902332e-01 -1.01930855e+00 -9.31872840e-01 -9.02392175e-01\n",
            "  -5.39067351e-01 -7.32937921e-01]\n",
            " [ 1.31657342e+00  1.67140481e+00  1.84314852e+00  5.42549941e-01\n",
            "   4.63901480e-01 -1.23090093e+00 -3.64662507e-01 -3.84665105e-01\n",
            "  -2.93575932e-01 -1.48212877e-01 -3.10026523e-01 -3.15846483e-01\n",
            "  -4.53631497e-01 -1.59014611e-01]\n",
            " [-5.94008046e-01 -3.95543722e-01 -5.16716673e-01 -1.90298755e-01\n",
            "   3.21120726e-01 -5.06939955e-01  3.41106617e-01 -5.48306065e-02\n",
            "   1.70533733e+00  1.27137756e+00  1.28228812e+00  6.10115912e-01\n",
            "   2.52905678e+00  1.51805140e+00]\n",
            " [ 1.19668266e-01 -3.41224692e-01 -7.69160474e-01  6.09878136e-01\n",
            "   4.63901480e-01  1.30416284e+00 -7.79076289e-01 -4.64762100e-01\n",
            "  -1.01268578e+00 -1.16785600e+00 -1.00937041e+00 -9.38181142e-01\n",
            "  -7.56024124e-01 -1.01252142e+00]\n",
            " [ 8.74218025e-01 -4.48377786e-02  3.01648009e-01  6.22502172e-01\n",
            "   4.32162377e-01  4.64727256e-01 -8.20943023e-01 -4.68179689e-01\n",
            "   1.35146957e+00  1.34593062e+00  1.38442805e+00  1.26152911e+00\n",
            "   1.74441092e-01  1.43105277e+00]\n",
            " [-5.30176306e-01 -4.23081281e-01 -1.55200622e+00  7.33032625e-01\n",
            "   4.63901480e-01  1.23194919e+00 -7.36581621e-01 -4.60416012e-01\n",
            "  -9.62490403e-01 -1.23923044e+00 -1.04359021e+00 -9.83451486e-01\n",
            "  -5.64549000e-01 -5.59894288e-01]\n",
            " [ 8.73545607e-01 -1.06558523e-01  7.94995928e-01 -8.75456647e-01\n",
            "  -1.02729384e+00 -9.22696558e-01  3.97019934e-01 -1.82758535e-02\n",
            "  -3.02257781e-01 -1.10840025e-01 -2.77028595e-01 -2.35070630e-01\n",
            "  -5.23043955e-01 -1.62026102e-01]\n",
            " [ 1.35504537e+00  3.22484948e+00  2.14270387e+00  5.14964084e-01\n",
            "   3.68684169e-01 -1.65573225e+00 -7.55979283e-01 -4.62509293e-01\n",
            "  -8.66852695e-01 -8.80932677e-01 -8.52092484e-01 -7.91168704e-01\n",
            "  -6.90833385e-01 -8.85034960e-01]\n",
            " [ 7.16535857e-01 -9.69681298e-02  1.25059097e-01  7.14610883e-01\n",
            "   4.16338037e-01  7.67938129e-01 -6.91160242e-01 -4.54794517e-01\n",
            "  -3.13357359e-01 -8.63742922e-02 -2.55151920e-01 -2.21919727e-01\n",
            "  -2.89102383e-01 -4.13652927e-01]\n",
            " [ 3.54006158e-01 -2.52961242e-01 -4.51183977e-01  6.21099502e-01\n",
            "   4.48077141e-01  1.07191723e+00 -5.97598260e-01 -4.40029322e-01\n",
            "  -9.96530944e-01 -9.58972585e-01 -8.97974968e-01 -7.79251903e-01\n",
            "  -7.46256529e-01 -1.27281465e+00]\n",
            " [ 1.29779373e+00  1.39821789e+00  1.74532588e+00  5.09166378e-01\n",
            "   4.63901480e-01 -1.14072990e+00 -5.66256225e-01 -4.34128255e-01\n",
            "  -9.21251622e-01 -1.02092676e+00 -9.32758150e-01 -8.78153634e-01\n",
            "  -6.85676967e-01 -8.85068421e-01]\n",
            " [-4.46412157e-01 -3.92917307e-01 -1.14054771e+00  5.52462148e-01\n",
            "   4.48077141e-01  1.12045978e+00 -7.30496134e-01 -4.59721592e-01\n",
            "  -1.53567383e-01 -1.44745292e-01 -3.06880379e-01 -4.36730662e-01\n",
            "   7.98808043e-02  1.56518813e-02]\n",
            " [ 9.50249360e-01  9.21735186e-02  5.90404757e-01  5.93233110e-01\n",
            "   4.48077141e-01  6.15984377e-02 -4.28438634e-01 -4.02466508e-01\n",
            "   1.33278711e+00  8.49680791e-01  7.38371056e-01  2.77988126e-01\n",
            "   1.53872193e+00  1.99369972e+00]\n",
            " [ 1.06100631e+00  2.46535070e-01  8.88372079e-01  1.40170467e-01\n",
            "   4.16338037e-01 -4.25363506e-01 -1.46360317e-01 -3.08679718e-01\n",
            "  -1.03441787e+00 -1.05791432e+00 -9.52820305e-01 -8.31122766e-01\n",
            "  -7.95515117e-01 -1.21367231e+00]\n",
            " [-8.65617141e-01 -4.01672023e-01 -1.26944279e+00  5.31422087e-01\n",
            "   4.63901480e-01  1.08176018e+00 -4.82358947e-01 -4.15957096e-01\n",
            "   1.64979470e-02 -6.78805099e-02 -2.38543207e-01 -4.68084574e-01\n",
            "   1.84672720e+00 -7.43621826e-03]\n",
            " [-8.34013466e-01 -4.13530683e-01 -9.32727541e-01  7.00369306e-02\n",
            "   2.25903416e-01  4.32605629e-01 -1.44398338e-02 -2.51462711e-01\n",
            "   2.24120515e-01  4.84043304e-01  3.14300125e-01  3.12215182e-01\n",
            "   7.46509461e-02  1.02148602e-01]\n",
            " [ 5.42571553e-01 -2.60044603e-01 -3.50672395e-02 -2.26674683e-01\n",
            "   4.00423273e-01  1.24881404e-01 -3.62041570e-01 -3.83897535e-01\n",
            "  -5.04577827e-01 -4.79945096e-01 -5.80082736e-01 -5.68644630e-01\n",
            "  -5.36018455e-01 -1.47805172e-01]\n",
            " [-3.66250251e-01 -3.54396559e-01 -1.05500583e+00  6.00901043e-01\n",
            "   4.48077141e-01  1.14859621e+00 -6.01393158e-01 -4.40711718e-01\n",
            "  -6.74148621e-01 -8.01756172e-01 -8.03180921e-01 -8.29985078e-01\n",
            "  -2.05802982e-01 -4.68528990e-01]\n",
            " [-3.52561729e-01 -4.31716614e-01  5.69389830e-01 -1.30981701e+00\n",
            "  -2.96274619e+00 -1.45964148e+00  2.42892845e+00  2.34788285e+00\n",
            "  -7.52010518e-01 -5.75977913e-01 -6.50739274e-01 -5.01154659e-01\n",
            "  -7.88751909e-01 -7.37990534e-01]\n",
            " [-1.65393192e+00 -5.06012313e-01  1.44074177e+00 -1.55519088e+00\n",
            "  -1.58259252e+00 -1.54880420e+00  1.08588948e+00  5.57621834e-01\n",
            "   5.95599242e-01  1.03673769e+00  9.72575861e-01  1.23299049e+00\n",
            "  -1.31494486e-01  2.69453672e-01]\n",
            " [-1.62261643e+00 -4.67770124e-01  1.68429261e+00 -2.10709505e+00\n",
            "  -3.26413203e+00 -2.01718458e+00  1.54108613e+00  1.06556055e+00\n",
            "   1.70533733e+00  1.58923944e+00  1.72940638e+00  1.41232098e+00\n",
            "   9.22110523e-01  1.39708984e+00]\n",
            " [ 9.43236994e-01 -8.08912887e-02  1.04008186e+00 -9.51107355e-01\n",
            "  -8.68688747e-01 -1.12815013e+00  3.23633705e-01 -6.59232906e-02\n",
            "  -3.67151853e-01 -4.03465600e-01 -5.21476660e-01 -6.03257343e-01\n",
            "  -2.49978593e-01 -5.49508580e-02]\n",
            " [ 8.46064380e-02 -3.19417491e-01 -7.93245592e-01  7.14610883e-01\n",
            "   4.63901480e-01  1.27641052e+00 -4.83778621e-01 -4.16294786e-01\n",
            "   7.87836255e-01  8.14812306e-01  6.96081029e-01  4.19003598e-01\n",
            "   9.82843642e-01  6.00550404e-01]\n",
            " [-2.97135222e-01 -3.63947158e-01 -1.03324983e+00  6.49526962e-01\n",
            "   4.63901480e-01  1.22657158e+00 -7.41386672e-01 -4.60952109e-01\n",
            "   1.45229991e+00  1.13440798e+00  1.09944594e+00  5.21549788e-01\n",
            "   2.19234294e+00  1.28850885e+00]\n",
            " [ 1.35490128e+00  3.06010165e+00  2.13968661e+00  5.14281657e-02\n",
            "   2.57642519e-01 -1.83852303e+00 -6.23538337e-02 -2.73227219e-01\n",
            "  -9.76749516e-01 -1.06854824e+00 -9.58497997e-01 -8.78462160e-01\n",
            "  -7.44266958e-01 -9.93097304e-01]\n",
            " [ 9.88433132e-01  1.27669910e-01  6.85633610e-01  5.28149188e-01\n",
            "   3.84598934e-01 -1.08804633e-01 -4.18582820e-01 -3.99846149e-01\n",
            "   3.66914878e-02  7.95355306e-01  6.72448367e-01  1.40807876e+00\n",
            "  -5.33103087e-01 -4.92119004e-01]\n",
            " [ 1.28497646e-02 -3.72622285e-01 -6.40953536e-01  3.73200829e-01\n",
            "   3.84598934e-01  6.53135723e-01 -2.82184903e-01 -3.58702011e-01\n",
            "   1.41438550e+00  2.03655780e+00  2.40992463e+00  3.38437792e+00\n",
            "   8.51551720e-02  5.17734395e-01]\n",
            " [ 1.32310549e+00  1.71545694e+00  1.85384125e+00  5.43952612e-01\n",
            "   2.57642519e-01 -1.28765394e+00 -1.74207770e-01 -3.19672197e-01\n",
            "  -5.51888408e-01 -4.48544195e-01 -5.56376907e-01 -5.16985878e-01\n",
            "  -6.11617724e-01 -4.06877072e-01]\n",
            " [ 1.31551676e+00  1.58111186e+00  1.81128205e+00  5.64899161e-01\n",
            "   4.63901480e-01 -1.21222333e+00 -3.32856347e-01 -3.75045433e-01\n",
            "  -7.40443878e-01 -6.99154209e-01 -7.36277805e-01 -6.80273041e-01\n",
            "  -6.85674742e-01 -6.38845550e-01]\n",
            " [ 9.86848145e-01  8.25831257e-02  6.21530141e-01  6.38305596e-01\n",
            "   4.63901480e-01  4.08214319e-01 -8.28966912e-01 -4.68736628e-01\n",
            "  -8.16519952e-01 -8.49262075e-01 -8.32805890e-01 -7.95777305e-01\n",
            "  -6.26394856e-01 -7.96229429e-01]]\n"
          ]
        }
      ],
      "source": [
        "print(X_test)"
      ]
    },
    {
      "cell_type": "markdown",
      "source": [
        "## Training the Dataset with Different Classifiers"
      ],
      "metadata": {
        "id": "AZ1Su4r3ugmH"
      }
    },
    {
      "cell_type": "markdown",
      "source": [
        "**Decision Tree classifier**"
      ],
      "metadata": {
        "id": "F6tIjSh6uqwW"
      }
    },
    {
      "cell_type": "markdown",
      "source": [
        "Training with default parameters"
      ],
      "metadata": {
        "id": "XBEVYqtRdYz4"
      }
    },
    {
      "cell_type": "code",
      "execution_count": 26,
      "metadata": {
        "id": "UJZ9K57ysbyV"
      },
      "outputs": [],
      "source": [
        "dtclf1 = DecisionTreeClassifier() # Gini as default criterion"
      ]
    },
    {
      "cell_type": "code",
      "execution_count": 27,
      "metadata": {
        "colab": {
          "base_uri": "https://localhost:8080/"
        },
        "id": "CHVKY3uhsbyW",
        "outputId": "9e1f2c9f-17a4-429a-8a4e-5fe44ce8fd7d"
      },
      "outputs": [
        {
          "output_type": "execute_result",
          "data": {
            "text/plain": [
              "DecisionTreeClassifier()"
            ]
          },
          "metadata": {},
          "execution_count": 27
        }
      ],
      "source": [
        "dtclf1.fit(X_train, y_train)"
      ]
    },
    {
      "cell_type": "code",
      "execution_count": 28,
      "metadata": {
        "id": "WgHhpZmIsbyW"
      },
      "outputs": [],
      "source": [
        "dtclf1_y_pred = dtclf1.predict(X_test)"
      ]
    },
    {
      "cell_type": "code",
      "execution_count": 29,
      "metadata": {
        "id": "0ezHbQWUsbyW"
      },
      "outputs": [],
      "source": [
        "dtclf1_cm = confusion_matrix(y_test, dtclf1_y_pred)\n",
        "\n",
        "print(dtclf1_cm)"
      ]
    },
    {
      "cell_type": "code",
      "execution_count": 31,
      "metadata": {
        "colab": {
          "base_uri": "https://localhost:8080/"
        },
        "id": "CI30sWIrsbyX",
        "outputId": "10486b90-3788-4070-eb1c-e1187da3be3c"
      },
      "outputs": [
        {
          "output_type": "stream",
          "name": "stdout",
          "text": [
            "Accuracy: 63.24%\n"
          ]
        }
      ],
      "source": [
        "dtclf1_acc_score = accuracy_score(y_test, dtclf1_y_pred)\n",
        "\n",
        "print(\"Accuracy: {:.2f}%\".format(dtclf1_acc_score * 100))"
      ]
    },
    {
      "cell_type": "code",
      "execution_count": 32,
      "metadata": {
        "colab": {
          "base_uri": "https://localhost:8080/"
        },
        "id": "5pfm9RexsbyX",
        "outputId": "77b16cfc-0ac9-4b80-bb81-da2347680da4"
      },
      "outputs": [
        {
          "output_type": "stream",
          "name": "stdout",
          "text": [
            "              precision    recall  f1-score   support\n",
            "\n",
            "           0       0.67      0.67      0.67         3\n",
            "           1       1.00      1.00      1.00         1\n",
            "           2       0.00      0.00      0.00         1\n",
            "           3       0.00      0.00      0.00         2\n",
            "           4       0.75      1.00      0.86         3\n",
            "           5       1.00      1.00      1.00         2\n",
            "           6       0.50      1.00      0.67         1\n",
            "           7       0.80      0.80      0.80         5\n",
            "           8       0.50      0.67      0.57         3\n",
            "           9       0.50      1.00      0.67         1\n",
            "          10       1.00      0.71      0.83         7\n",
            "          11       0.50      0.50      0.50         2\n",
            "          12       0.40      1.00      0.57         2\n",
            "          13       0.33      0.50      0.40         2\n",
            "          14       0.00      0.00      0.00         1\n",
            "          15       1.00      0.40      0.57         5\n",
            "          17       1.00      1.00      1.00         2\n",
            "          18       0.50      0.50      0.50         2\n",
            "          19       0.50      1.00      0.67         1\n",
            "          20       0.50      0.50      0.50         2\n",
            "          21       0.00      0.00      0.00         0\n",
            "          22       1.00      1.00      1.00         1\n",
            "          23       1.00      1.00      1.00         1\n",
            "          24       1.00      0.67      0.80         3\n",
            "          25       0.50      0.50      0.50         2\n",
            "          26       0.50      0.33      0.40         3\n",
            "          27       0.60      0.75      0.67         4\n",
            "          28       0.00      0.00      0.00         3\n",
            "          29       0.67      0.67      0.67         3\n",
            "\n",
            "    accuracy                           0.63        68\n",
            "   macro avg       0.58      0.63      0.58        68\n",
            "weighted avg       0.66      0.63      0.62        68\n",
            "\n"
          ]
        },
        {
          "output_type": "stream",
          "name": "stderr",
          "text": [
            "/usr/local/lib/python3.8/dist-packages/sklearn/metrics/_classification.py:1318: UndefinedMetricWarning: Precision and F-score are ill-defined and being set to 0.0 in labels with no predicted samples. Use `zero_division` parameter to control this behavior.\n",
            "  _warn_prf(average, modifier, msg_start, len(result))\n",
            "/usr/local/lib/python3.8/dist-packages/sklearn/metrics/_classification.py:1318: UndefinedMetricWarning: Recall and F-score are ill-defined and being set to 0.0 in labels with no true samples. Use `zero_division` parameter to control this behavior.\n",
            "  _warn_prf(average, modifier, msg_start, len(result))\n",
            "/usr/local/lib/python3.8/dist-packages/sklearn/metrics/_classification.py:1318: UndefinedMetricWarning: Precision and F-score are ill-defined and being set to 0.0 in labels with no predicted samples. Use `zero_division` parameter to control this behavior.\n",
            "  _warn_prf(average, modifier, msg_start, len(result))\n",
            "/usr/local/lib/python3.8/dist-packages/sklearn/metrics/_classification.py:1318: UndefinedMetricWarning: Recall and F-score are ill-defined and being set to 0.0 in labels with no true samples. Use `zero_division` parameter to control this behavior.\n",
            "  _warn_prf(average, modifier, msg_start, len(result))\n",
            "/usr/local/lib/python3.8/dist-packages/sklearn/metrics/_classification.py:1318: UndefinedMetricWarning: Precision and F-score are ill-defined and being set to 0.0 in labels with no predicted samples. Use `zero_division` parameter to control this behavior.\n",
            "  _warn_prf(average, modifier, msg_start, len(result))\n",
            "/usr/local/lib/python3.8/dist-packages/sklearn/metrics/_classification.py:1318: UndefinedMetricWarning: Recall and F-score are ill-defined and being set to 0.0 in labels with no true samples. Use `zero_division` parameter to control this behavior.\n",
            "  _warn_prf(average, modifier, msg_start, len(result))\n"
          ]
        }
      ],
      "source": [
        "print(classification_report(y_test, dtclf1_y_pred))"
      ]
    },
    {
      "cell_type": "markdown",
      "source": [
        "Changed parameters"
      ],
      "metadata": {
        "id": "YiI3wgs4dwFY"
      }
    },
    {
      "cell_type": "code",
      "execution_count": 34,
      "metadata": {
        "id": "qj65mHbjsbyV"
      },
      "outputs": [],
      "source": [
        "dtclf2 = DecisionTreeClassifier(criterion='entropy', random_state=42)"
      ]
    },
    {
      "cell_type": "code",
      "source": [
        "dtclf2.fit(X_train, y_train)"
      ],
      "metadata": {
        "colab": {
          "base_uri": "https://localhost:8080/"
        },
        "id": "1gmZdIEVesHg",
        "outputId": "23fe1ebe-0dc7-4d7b-8383-ed3534d2fdd6"
      },
      "execution_count": 35,
      "outputs": [
        {
          "output_type": "execute_result",
          "data": {
            "text/plain": [
              "DecisionTreeClassifier(criterion='entropy', random_state=42)"
            ]
          },
          "metadata": {},
          "execution_count": 35
        }
      ]
    },
    {
      "cell_type": "code",
      "source": [
        "dtclf2_y_pred = dtclf2.predict(X_test)"
      ],
      "metadata": {
        "id": "GGWI7PVKey-T"
      },
      "execution_count": 37,
      "outputs": []
    },
    {
      "cell_type": "code",
      "source": [
        "dtclf2_cm = confusion_matrix(y_test, dtclf2_y_pred)\n",
        "\n",
        "print(dtclf2_cm)"
      ],
      "metadata": {
        "id": "CphnZQWdfH_Y"
      },
      "execution_count": 38,
      "outputs": []
    },
    {
      "cell_type": "code",
      "source": [
        "dtclf2_acc_score = accuracy_score(y_test, dtclf2_y_pred)\n",
        "\n",
        "print(\"Accuracy: {:.2f}%\".format(dtclf2_acc_score * 100))"
      ],
      "metadata": {
        "colab": {
          "base_uri": "https://localhost:8080/"
        },
        "id": "JQ7loRqSfN83",
        "outputId": "f4d0d81f-3966-48da-ec32-5b281ba58f0d"
      },
      "execution_count": 39,
      "outputs": [
        {
          "output_type": "stream",
          "name": "stdout",
          "text": [
            "[[2 0 0 0 0 0 0 0 0 0 0 0 0 0 0 0 0 0 0 1 0 0 0 0 0 0 0 0 0]\n",
            " [0 0 0 0 0 0 0 0 0 0 0 0 0 0 0 0 0 0 0 0 0 0 0 0 1 0 0 0 0]\n",
            " [0 0 0 0 0 0 0 0 1 0 0 0 0 0 0 0 0 0 0 0 0 0 0 0 0 0 0 0 0]\n",
            " [0 0 0 0 0 0 0 0 0 0 0 0 1 0 0 0 0 0 0 0 0 0 0 0 0 1 0 0 0]\n",
            " [0 0 0 0 3 0 0 0 0 0 0 0 0 0 0 0 0 0 0 0 0 0 0 0 0 0 0 0 0]\n",
            " [0 0 0 0 0 2 0 0 0 0 0 0 0 0 0 0 0 0 0 0 0 0 0 0 0 0 0 0 0]\n",
            " [0 0 0 0 0 0 1 0 0 0 0 0 0 0 0 0 0 0 0 0 0 0 0 0 0 0 0 0 0]\n",
            " [0 1 0 0 0 0 0 4 0 0 0 0 0 0 0 0 0 0 0 0 0 0 0 0 0 0 0 0 0]\n",
            " [0 0 0 0 0 0 0 0 2 1 0 0 0 0 0 0 0 0 0 0 0 0 0 0 0 0 0 0 0]\n",
            " [0 0 0 0 0 0 0 0 0 1 0 0 0 0 0 0 0 0 0 0 0 0 0 0 0 0 0 0 0]\n",
            " [0 0 0 0 0 0 0 0 0 0 5 0 0 0 1 0 0 0 0 0 0 0 0 0 0 0 0 0 1]\n",
            " [0 0 0 0 0 0 1 0 0 0 0 1 0 0 0 0 0 0 0 0 0 0 0 0 0 0 0 0 0]\n",
            " [0 0 0 0 0 0 0 0 0 0 0 0 1 0 0 0 0 0 1 0 0 0 0 0 0 0 0 0 0]\n",
            " [0 0 0 0 0 0 0 0 0 0 0 0 0 1 0 0 0 0 0 0 1 0 0 0 0 0 0 0 0]\n",
            " [0 0 0 0 0 0 0 0 0 0 0 0 0 0 1 0 0 0 0 0 0 0 0 0 0 0 0 0 0]\n",
            " [0 0 0 0 0 0 0 0 0 0 0 0 0 3 0 2 0 0 0 0 0 0 0 0 0 0 0 0 0]\n",
            " [0 0 0 0 0 0 0 0 0 0 0 0 0 0 0 0 2 0 0 0 0 0 0 0 0 0 0 0 0]\n",
            " [0 0 0 0 0 0 1 0 0 0 0 0 0 0 0 0 0 1 0 0 0 0 0 0 0 0 0 0 0]\n",
            " [0 0 0 0 0 0 0 0 0 0 0 0 0 0 0 0 0 0 1 0 0 0 0 0 0 0 0 0 0]\n",
            " [0 0 0 0 0 0 0 0 0 0 0 0 0 0 0 0 0 0 0 2 0 0 0 0 0 0 0 0 0]\n",
            " [0 0 0 0 0 0 0 0 0 0 0 0 0 0 0 0 0 0 0 0 0 0 0 0 0 0 0 0 0]\n",
            " [0 0 0 0 0 0 0 0 1 0 0 0 0 0 0 0 0 0 0 0 0 0 0 0 0 0 0 0 0]\n",
            " [0 0 0 0 0 0 0 0 0 0 0 0 0 0 0 0 0 1 0 0 0 0 0 0 0 0 0 0 0]\n",
            " [0 0 0 0 0 0 0 0 0 0 0 0 0 0 0 0 0 0 0 0 0 0 0 2 0 0 1 0 0]\n",
            " [0 0 0 0 0 0 0 0 0 0 0 0 0 1 0 0 0 0 0 1 0 0 0 0 0 0 0 0 0]\n",
            " [0 0 0 0 0 0 0 0 0 0 0 0 1 0 0 0 0 0 0 1 0 0 0 0 0 1 0 0 0]\n",
            " [0 0 0 0 0 0 0 0 0 0 0 0 0 0 0 0 0 0 0 0 0 0 0 0 1 0 3 0 0]\n",
            " [0 0 0 0 0 0 0 0 0 0 0 0 0 0 0 1 0 0 0 0 0 0 0 0 0 0 0 2 0]\n",
            " [0 0 0 0 0 0 0 0 0 0 0 0 0 0 1 0 0 0 0 0 0 0 0 0 0 0 0 0 2]]\n"
          ]
        }
      ]
    },
    {
      "cell_type": "code",
      "source": [
        "print(classification_report(y_test, dtclf2_y_pred))"
      ],
      "metadata": {
        "colab": {
          "base_uri": "https://localhost:8080/"
        },
        "id": "ICsP6qQWfbtE",
        "outputId": "392bd9d9-aca4-492e-a26c-528ef296824a"
      },
      "execution_count": 41,
      "outputs": [
        {
          "output_type": "stream",
          "name": "stdout",
          "text": [
            "              precision    recall  f1-score   support\n",
            "\n",
            "           0       1.00      0.67      0.80         3\n",
            "           1       0.00      0.00      0.00         1\n",
            "           2       0.00      0.00      0.00         1\n",
            "           3       0.00      0.00      0.00         2\n",
            "           4       1.00      1.00      1.00         3\n",
            "           5       1.00      1.00      1.00         2\n",
            "           6       0.33      1.00      0.50         1\n",
            "           7       1.00      0.80      0.89         5\n",
            "           8       0.50      0.67      0.57         3\n",
            "           9       0.50      1.00      0.67         1\n",
            "          10       1.00      0.71      0.83         7\n",
            "          11       1.00      0.50      0.67         2\n",
            "          12       0.33      0.50      0.40         2\n",
            "          13       0.20      0.50      0.29         2\n",
            "          14       0.33      1.00      0.50         1\n",
            "          15       0.67      0.40      0.50         5\n",
            "          17       1.00      1.00      1.00         2\n",
            "          18       0.50      0.50      0.50         2\n",
            "          19       0.50      1.00      0.67         1\n",
            "          20       0.40      1.00      0.57         2\n",
            "          21       0.00      0.00      0.00         0\n",
            "          22       0.00      0.00      0.00         1\n",
            "          23       0.00      0.00      0.00         1\n",
            "          24       1.00      0.67      0.80         3\n",
            "          25       0.00      0.00      0.00         2\n",
            "          26       0.50      0.33      0.40         3\n",
            "          27       0.75      0.75      0.75         4\n",
            "          28       1.00      0.67      0.80         3\n",
            "          29       0.67      0.67      0.67         3\n",
            "\n",
            "    accuracy                           0.62        68\n",
            "   macro avg       0.52      0.56      0.51        68\n",
            "weighted avg       0.67      0.62      0.62        68\n",
            "\n"
          ]
        },
        {
          "output_type": "stream",
          "name": "stderr",
          "text": [
            "/usr/local/lib/python3.8/dist-packages/sklearn/metrics/_classification.py:1318: UndefinedMetricWarning: Precision and F-score are ill-defined and being set to 0.0 in labels with no predicted samples. Use `zero_division` parameter to control this behavior.\n",
            "  _warn_prf(average, modifier, msg_start, len(result))\n",
            "/usr/local/lib/python3.8/dist-packages/sklearn/metrics/_classification.py:1318: UndefinedMetricWarning: Recall and F-score are ill-defined and being set to 0.0 in labels with no true samples. Use `zero_division` parameter to control this behavior.\n",
            "  _warn_prf(average, modifier, msg_start, len(result))\n",
            "/usr/local/lib/python3.8/dist-packages/sklearn/metrics/_classification.py:1318: UndefinedMetricWarning: Precision and F-score are ill-defined and being set to 0.0 in labels with no predicted samples. Use `zero_division` parameter to control this behavior.\n",
            "  _warn_prf(average, modifier, msg_start, len(result))\n",
            "/usr/local/lib/python3.8/dist-packages/sklearn/metrics/_classification.py:1318: UndefinedMetricWarning: Recall and F-score are ill-defined and being set to 0.0 in labels with no true samples. Use `zero_division` parameter to control this behavior.\n",
            "  _warn_prf(average, modifier, msg_start, len(result))\n",
            "/usr/local/lib/python3.8/dist-packages/sklearn/metrics/_classification.py:1318: UndefinedMetricWarning: Precision and F-score are ill-defined and being set to 0.0 in labels with no predicted samples. Use `zero_division` parameter to control this behavior.\n",
            "  _warn_prf(average, modifier, msg_start, len(result))\n",
            "/usr/local/lib/python3.8/dist-packages/sklearn/metrics/_classification.py:1318: UndefinedMetricWarning: Recall and F-score are ill-defined and being set to 0.0 in labels with no true samples. Use `zero_division` parameter to control this behavior.\n",
            "  _warn_prf(average, modifier, msg_start, len(result))\n"
          ]
        }
      ]
    },
    {
      "cell_type": "markdown",
      "source": [
        "**KNN classifier**"
      ],
      "metadata": {
        "id": "Kjg9dT9TuxDg"
      }
    },
    {
      "cell_type": "markdown",
      "source": [
        "Training with default parameters"
      ],
      "metadata": {
        "id": "uhmXdJTEfvzl"
      }
    },
    {
      "cell_type": "code",
      "execution_count": 42,
      "metadata": {
        "id": "uXG3SWazsbyY"
      },
      "outputs": [],
      "source": [
        "knnclf1 = KNeighborsClassifier()"
      ]
    },
    {
      "cell_type": "code",
      "execution_count": 43,
      "metadata": {
        "colab": {
          "base_uri": "https://localhost:8080/"
        },
        "id": "r6T3UruXsbyY",
        "outputId": "024ca8f2-4b73-4b8d-cea0-95d0a1d865d3"
      },
      "outputs": [
        {
          "output_type": "execute_result",
          "data": {
            "text/plain": [
              "KNeighborsClassifier()"
            ]
          },
          "metadata": {},
          "execution_count": 43
        }
      ],
      "source": [
        "knnclf1.fit(X_train, y_train)"
      ]
    },
    {
      "cell_type": "code",
      "execution_count": 45,
      "metadata": {
        "id": "ZwYp68SNsbyY"
      },
      "outputs": [],
      "source": [
        "knnclf1_y_pred = knnclf1.predict(X_test)"
      ]
    },
    {
      "cell_type": "code",
      "execution_count": 46,
      "metadata": {
        "id": "LHcSldlssbyY"
      },
      "outputs": [],
      "source": [
        "knnclf1_cm = confusion_matrix(y_test, knnclf1_y_pred)\n",
        "\n",
        "print(knnclf1_cm)"
      ]
    },
    {
      "cell_type": "code",
      "execution_count": 48,
      "metadata": {
        "id": "PLMGoHLysbyZ"
      },
      "outputs": [],
      "source": [
        "knnclf1_acc_score = accuracy_score(y_test, knnclf1_y_pred)\n",
        "\n",
        "print(\"Accuracy: {:.2f}%\".format(knnclf1_acc_score * 100))"
      ]
    },
    {
      "cell_type": "code",
      "execution_count": 50,
      "metadata": {
        "colab": {
          "base_uri": "https://localhost:8080/"
        },
        "id": "IB3-Sgq3sbyZ",
        "outputId": "b729eca9-f98b-410f-edd0-cce09bd269b2"
      },
      "outputs": [
        {
          "output_type": "stream",
          "name": "stdout",
          "text": [
            "              precision    recall  f1-score   support\n",
            "\n",
            "           0       0.40      0.67      0.50         3\n",
            "           1       0.00      0.00      0.00         1\n",
            "           2       1.00      1.00      1.00         1\n",
            "           3       0.00      0.00      0.00         2\n",
            "           4       0.75      1.00      0.86         3\n",
            "           5       1.00      0.50      0.67         2\n",
            "           6       0.50      1.00      0.67         1\n",
            "           7       1.00      1.00      1.00         5\n",
            "           8       1.00      0.67      0.80         3\n",
            "           9       0.00      0.00      0.00         1\n",
            "          10       1.00      1.00      1.00         7\n",
            "          11       1.00      1.00      1.00         2\n",
            "          12       0.33      0.50      0.40         2\n",
            "          13       1.00      1.00      1.00         2\n",
            "          14       0.00      0.00      0.00         1\n",
            "          15       0.50      0.20      0.29         5\n",
            "          16       0.00      0.00      0.00         0\n",
            "          17       1.00      1.00      1.00         2\n",
            "          18       0.67      1.00      0.80         2\n",
            "          19       1.00      1.00      1.00         1\n",
            "          20       1.00      0.50      0.67         2\n",
            "          21       0.00      0.00      0.00         0\n",
            "          22       0.50      1.00      0.67         1\n",
            "          23       1.00      1.00      1.00         1\n",
            "          24       1.00      0.67      0.80         3\n",
            "          25       0.50      0.50      0.50         2\n",
            "          26       1.00      0.67      0.80         3\n",
            "          27       0.80      1.00      0.89         4\n",
            "          28       1.00      0.33      0.50         3\n",
            "          29       1.00      0.67      0.80         3\n",
            "\n",
            "    accuracy                           0.71        68\n",
            "   macro avg       0.66      0.63      0.62        68\n",
            "weighted avg       0.78      0.71      0.71        68\n",
            "\n"
          ]
        },
        {
          "output_type": "stream",
          "name": "stderr",
          "text": [
            "/usr/local/lib/python3.8/dist-packages/sklearn/metrics/_classification.py:1318: UndefinedMetricWarning: Recall and F-score are ill-defined and being set to 0.0 in labels with no true samples. Use `zero_division` parameter to control this behavior.\n",
            "  _warn_prf(average, modifier, msg_start, len(result))\n",
            "/usr/local/lib/python3.8/dist-packages/sklearn/metrics/_classification.py:1318: UndefinedMetricWarning: Recall and F-score are ill-defined and being set to 0.0 in labels with no true samples. Use `zero_division` parameter to control this behavior.\n",
            "  _warn_prf(average, modifier, msg_start, len(result))\n",
            "/usr/local/lib/python3.8/dist-packages/sklearn/metrics/_classification.py:1318: UndefinedMetricWarning: Recall and F-score are ill-defined and being set to 0.0 in labels with no true samples. Use `zero_division` parameter to control this behavior.\n",
            "  _warn_prf(average, modifier, msg_start, len(result))\n"
          ]
        }
      ],
      "source": [
        "print(classification_report(y_test, knnclf1_y_pred))"
      ]
    },
    {
      "cell_type": "markdown",
      "source": [
        "Changed parameters"
      ],
      "metadata": {
        "id": "3_y21x0xgz3X"
      }
    },
    {
      "cell_type": "code",
      "source": [
        "knnclf2 = KNeighborsClassifier(n_neighbors=10, weights='distance', metric='minkowski', p=1)"
      ],
      "metadata": {
        "id": "PNfD8R0tg3dq"
      },
      "execution_count": 51,
      "outputs": []
    },
    {
      "cell_type": "code",
      "source": [
        "knnclf2.fit(X_train, y_train)"
      ],
      "metadata": {
        "colab": {
          "base_uri": "https://localhost:8080/"
        },
        "id": "Nid6HtfDhL5p",
        "outputId": "67375b50-4431-4e45-fa43-5c37b73915d7"
      },
      "execution_count": 52,
      "outputs": [
        {
          "output_type": "execute_result",
          "data": {
            "text/plain": [
              "KNeighborsClassifier(n_neighbors=10, p=1, weights='distance')"
            ]
          },
          "metadata": {},
          "execution_count": 52
        }
      ]
    },
    {
      "cell_type": "code",
      "source": [
        "knnclf2_y_pred = knnclf2.predict(X_test)"
      ],
      "metadata": {
        "id": "konO60O3haa0"
      },
      "execution_count": 58,
      "outputs": []
    },
    {
      "cell_type": "code",
      "source": [
        "knnclf2_cm = confusion_matrix(y_test, knnclf2_y_pred)\n",
        "\n",
        "print(knnclf2_cm)"
      ],
      "metadata": {
        "id": "B0HxNVj7haP-"
      },
      "execution_count": 59,
      "outputs": []
    },
    {
      "cell_type": "code",
      "source": [
        "knnclf2_acc_score = accuracy_score(y_test, knnclf2_y_pred)\n",
        "\n",
        "print(\"Accuracy: {:.2f}%\".format(knnclf2_acc_score * 100))"
      ],
      "metadata": {
        "colab": {
          "base_uri": "https://localhost:8080/"
        },
        "id": "F2DQcE7LhZ5I",
        "outputId": "c51a5d56-98d0-4599-eaef-7672d0a1c7bf"
      },
      "execution_count": 61,
      "outputs": [
        {
          "output_type": "stream",
          "name": "stdout",
          "text": [
            "Accuracy: 70.59%\n"
          ]
        }
      ]
    },
    {
      "cell_type": "code",
      "source": [
        "print(classification_report(y_test, knnclf2_y_pred))"
      ],
      "metadata": {
        "colab": {
          "base_uri": "https://localhost:8080/"
        },
        "id": "asIIiI1-hZsY",
        "outputId": "96e7f8a4-1778-4cb5-e4e4-0c1713e4ee43"
      },
      "execution_count": 62,
      "outputs": [
        {
          "output_type": "stream",
          "name": "stdout",
          "text": [
            "              precision    recall  f1-score   support\n",
            "\n",
            "           0       0.40      0.67      0.50         3\n",
            "           1       1.00      1.00      1.00         1\n",
            "           2       0.00      0.00      0.00         1\n",
            "           3       0.00      0.00      0.00         2\n",
            "           4       0.75      1.00      0.86         3\n",
            "           5       1.00      0.50      0.67         2\n",
            "           6       1.00      1.00      1.00         1\n",
            "           7       1.00      1.00      1.00         5\n",
            "           8       1.00      0.67      0.80         3\n",
            "           9       0.50      1.00      0.67         1\n",
            "          10       0.88      1.00      0.93         7\n",
            "          11       0.50      0.50      0.50         2\n",
            "          12       0.25      0.50      0.33         2\n",
            "          13       1.00      1.00      1.00         2\n",
            "          14       0.00      0.00      0.00         1\n",
            "          15       1.00      0.40      0.57         5\n",
            "          16       0.00      0.00      0.00         0\n",
            "          17       0.67      1.00      0.80         2\n",
            "          18       1.00      1.00      1.00         2\n",
            "          19       0.00      0.00      0.00         1\n",
            "          20       1.00      0.50      0.67         2\n",
            "          21       0.00      0.00      0.00         0\n",
            "          22       0.33      1.00      0.50         1\n",
            "          23       1.00      1.00      1.00         1\n",
            "          24       1.00      0.67      0.80         3\n",
            "          25       1.00      0.50      0.67         2\n",
            "          26       1.00      0.67      0.80         3\n",
            "          27       0.80      1.00      0.89         4\n",
            "          28       0.50      0.33      0.40         3\n",
            "          29       1.00      0.67      0.80         3\n",
            "\n",
            "    accuracy                           0.71        68\n",
            "   macro avg       0.65      0.62      0.61        68\n",
            "weighted avg       0.78      0.71      0.71        68\n",
            "\n"
          ]
        },
        {
          "output_type": "stream",
          "name": "stderr",
          "text": [
            "/usr/local/lib/python3.8/dist-packages/sklearn/metrics/_classification.py:1318: UndefinedMetricWarning: Precision and F-score are ill-defined and being set to 0.0 in labels with no predicted samples. Use `zero_division` parameter to control this behavior.\n",
            "  _warn_prf(average, modifier, msg_start, len(result))\n",
            "/usr/local/lib/python3.8/dist-packages/sklearn/metrics/_classification.py:1318: UndefinedMetricWarning: Recall and F-score are ill-defined and being set to 0.0 in labels with no true samples. Use `zero_division` parameter to control this behavior.\n",
            "  _warn_prf(average, modifier, msg_start, len(result))\n",
            "/usr/local/lib/python3.8/dist-packages/sklearn/metrics/_classification.py:1318: UndefinedMetricWarning: Precision and F-score are ill-defined and being set to 0.0 in labels with no predicted samples. Use `zero_division` parameter to control this behavior.\n",
            "  _warn_prf(average, modifier, msg_start, len(result))\n",
            "/usr/local/lib/python3.8/dist-packages/sklearn/metrics/_classification.py:1318: UndefinedMetricWarning: Recall and F-score are ill-defined and being set to 0.0 in labels with no true samples. Use `zero_division` parameter to control this behavior.\n",
            "  _warn_prf(average, modifier, msg_start, len(result))\n",
            "/usr/local/lib/python3.8/dist-packages/sklearn/metrics/_classification.py:1318: UndefinedMetricWarning: Precision and F-score are ill-defined and being set to 0.0 in labels with no predicted samples. Use `zero_division` parameter to control this behavior.\n",
            "  _warn_prf(average, modifier, msg_start, len(result))\n",
            "/usr/local/lib/python3.8/dist-packages/sklearn/metrics/_classification.py:1318: UndefinedMetricWarning: Recall and F-score are ill-defined and being set to 0.0 in labels with no true samples. Use `zero_division` parameter to control this behavior.\n",
            "  _warn_prf(average, modifier, msg_start, len(result))\n"
          ]
        }
      ]
    },
    {
      "cell_type": "markdown",
      "source": [
        "**Linear Discriminant Analysis (LDA)**"
      ],
      "metadata": {
        "id": "0AWO0UBhlYVp"
      }
    },
    {
      "cell_type": "markdown",
      "source": [
        "Training with default parameters"
      ],
      "metadata": {
        "id": "CeuEr9h1llnx"
      }
    },
    {
      "cell_type": "code",
      "source": [
        "ldaclf = LinearDiscriminantAnalysis()"
      ],
      "metadata": {
        "id": "Znp1Rdg3lhaT"
      },
      "execution_count": 80,
      "outputs": []
    },
    {
      "cell_type": "code",
      "source": [
        "ldaclf.fit(X_train, y_train)"
      ],
      "metadata": {
        "colab": {
          "base_uri": "https://localhost:8080/"
        },
        "id": "SFSjpVVkmMXq",
        "outputId": "a403f869-dfde-4fd1-e0eb-b0255e931a21"
      },
      "execution_count": 81,
      "outputs": [
        {
          "output_type": "execute_result",
          "data": {
            "text/plain": [
              "LinearDiscriminantAnalysis()"
            ]
          },
          "metadata": {},
          "execution_count": 81
        }
      ]
    },
    {
      "cell_type": "code",
      "source": [
        "ldaclf_y_pred = ldaclf.predict(X_test)"
      ],
      "metadata": {
        "id": "drU2f4JWn2S8"
      },
      "execution_count": 92,
      "outputs": []
    },
    {
      "cell_type": "code",
      "source": [
        "ldaclf_cm = confusion_matrix(y_test, ldaclf_y_pred)\n",
        "\n",
        "print(ldaclf_cm)"
      ],
      "metadata": {
        "colab": {
          "base_uri": "https://localhost:8080/"
        },
        "id": "nWEvuqploJRQ",
        "outputId": "f7b53445-157c-4d60-96f6-ea3584c66219"
      },
      "execution_count": 93,
      "outputs": [
        {
          "output_type": "stream",
          "name": "stdout",
          "text": [
            "[[2 0 0 0 0 0 0 0 0 0 0 0 0 0 0 0 0 0 0 0 1 0 0 0 0 0 0 0]\n",
            " [0 1 0 0 0 0 0 0 0 0 0 0 0 0 0 0 0 0 0 0 0 0 0 0 0 0 0 0]\n",
            " [0 0 1 0 0 0 0 0 0 0 0 0 0 0 0 0 0 0 0 0 0 0 0 0 0 0 0 0]\n",
            " [0 0 0 1 0 0 0 0 0 0 0 0 0 0 0 0 0 0 1 0 0 0 0 0 0 0 0 0]\n",
            " [0 0 0 0 3 0 0 0 0 0 0 0 0 0 0 0 0 0 0 0 0 0 0 0 0 0 0 0]\n",
            " [0 0 0 0 0 1 0 0 0 0 0 0 0 0 1 0 0 0 0 0 0 0 0 0 0 0 0 0]\n",
            " [0 0 0 0 0 0 1 0 0 0 0 0 0 0 0 0 0 0 0 0 0 0 0 0 0 0 0 0]\n",
            " [0 0 0 0 0 0 0 5 0 0 0 0 0 0 0 0 0 0 0 0 0 0 0 0 0 0 0 0]\n",
            " [0 0 0 0 0 0 0 0 3 0 0 0 0 0 0 0 0 0 0 0 0 0 0 0 0 0 0 0]\n",
            " [0 0 0 0 0 0 0 0 0 1 0 0 0 0 0 0 0 0 0 0 0 0 0 0 0 0 0 0]\n",
            " [0 0 0 0 0 0 0 0 0 0 7 0 0 0 0 0 0 0 0 0 0 0 0 0 0 0 0 0]\n",
            " [0 0 0 0 0 0 0 0 0 0 0 2 0 0 0 0 0 0 0 0 0 0 0 0 0 0 0 0]\n",
            " [0 0 0 0 0 0 0 0 0 0 0 0 1 0 0 0 0 0 1 0 0 0 0 0 0 0 0 0]\n",
            " [0 0 0 0 0 0 0 0 0 0 0 0 0 2 0 0 0 0 0 0 0 0 0 0 0 0 0 0]\n",
            " [0 0 0 0 0 0 0 0 0 0 0 0 0 0 1 0 0 0 0 0 0 0 0 0 0 0 0 0]\n",
            " [0 0 0 0 0 0 0 0 0 0 0 0 0 0 0 5 0 0 0 0 0 0 0 0 0 0 0 0]\n",
            " [0 0 0 0 0 0 0 0 0 0 0 0 0 0 0 0 2 0 0 0 0 0 0 0 0 0 0 0]\n",
            " [0 0 0 0 0 0 0 0 0 0 0 0 0 0 0 0 0 2 0 0 0 0 0 0 0 0 0 0]\n",
            " [0 0 0 0 0 0 0 0 0 0 0 0 0 0 0 0 0 0 1 0 0 0 0 0 0 0 0 0]\n",
            " [0 0 0 1 0 0 0 0 0 0 0 0 0 0 0 0 0 0 0 1 0 0 0 0 0 0 0 0]\n",
            " [0 0 0 0 0 0 0 0 0 0 0 0 0 0 0 0 0 0 0 0 1 0 0 0 0 0 0 0]\n",
            " [0 0 0 0 0 0 0 0 0 0 0 0 0 0 0 0 0 0 0 0 0 1 0 0 0 0 0 0]\n",
            " [0 0 0 0 0 0 0 0 0 0 0 0 0 0 0 0 0 0 0 0 0 0 3 0 0 0 0 0]\n",
            " [1 0 0 0 0 0 0 0 0 0 0 0 0 0 0 0 0 0 0 0 0 0 0 1 0 0 0 0]\n",
            " [0 0 0 0 0 0 0 0 0 0 0 0 0 0 0 0 0 0 0 0 0 0 0 1 2 0 0 0]\n",
            " [0 0 0 0 0 0 0 0 0 0 0 0 0 0 0 0 0 0 0 0 0 0 1 0 0 3 0 0]\n",
            " [0 0 0 0 0 0 0 0 0 0 0 1 0 0 0 1 0 0 0 0 0 0 0 0 0 0 1 0]\n",
            " [0 0 0 0 0 0 0 0 0 0 0 0 0 0 0 0 0 0 0 0 0 0 0 0 0 0 0 3]]\n"
          ]
        }
      ]
    },
    {
      "cell_type": "code",
      "source": [
        "ldaclf_acc_score = accuracy_score(y_test, ldaclf_y_pred)\n",
        "\n",
        "print(\"Accuracy: {:.2f}%\".format(ldaclf_acc_score * 100))"
      ],
      "metadata": {
        "colab": {
          "base_uri": "https://localhost:8080/"
        },
        "id": "IIQ21wmMoEuQ",
        "outputId": "6937516d-8f61-4bd8-d47d-135ebf6a5bd9"
      },
      "execution_count": 94,
      "outputs": [
        {
          "output_type": "stream",
          "name": "stdout",
          "text": [
            "Accuracy: 85.29%\n"
          ]
        }
      ]
    },
    {
      "cell_type": "code",
      "source": [
        "print(classification_report(y_test, ldaclf_y_pred))"
      ],
      "metadata": {
        "colab": {
          "base_uri": "https://localhost:8080/"
        },
        "id": "7QSuXgc-oHgY",
        "outputId": "32b84379-cf08-4afb-ec1e-9bbe7b1cc455"
      },
      "execution_count": 95,
      "outputs": [
        {
          "output_type": "stream",
          "name": "stdout",
          "text": [
            "              precision    recall  f1-score   support\n",
            "\n",
            "           0       0.67      0.67      0.67         3\n",
            "           1       1.00      1.00      1.00         1\n",
            "           2       1.00      1.00      1.00         1\n",
            "           3       0.50      0.50      0.50         2\n",
            "           4       1.00      1.00      1.00         3\n",
            "           5       1.00      0.50      0.67         2\n",
            "           6       1.00      1.00      1.00         1\n",
            "           7       1.00      1.00      1.00         5\n",
            "           8       1.00      1.00      1.00         3\n",
            "           9       1.00      1.00      1.00         1\n",
            "          10       1.00      1.00      1.00         7\n",
            "          11       0.67      1.00      0.80         2\n",
            "          12       1.00      0.50      0.67         2\n",
            "          13       1.00      1.00      1.00         2\n",
            "          14       0.50      1.00      0.67         1\n",
            "          15       0.83      1.00      0.91         5\n",
            "          17       1.00      1.00      1.00         2\n",
            "          18       1.00      1.00      1.00         2\n",
            "          19       0.33      1.00      0.50         1\n",
            "          20       1.00      0.50      0.67         2\n",
            "          22       0.50      1.00      0.67         1\n",
            "          23       1.00      1.00      1.00         1\n",
            "          24       0.75      1.00      0.86         3\n",
            "          25       0.50      0.50      0.50         2\n",
            "          26       1.00      0.67      0.80         3\n",
            "          27       1.00      0.75      0.86         4\n",
            "          28       1.00      0.33      0.50         3\n",
            "          29       1.00      1.00      1.00         3\n",
            "\n",
            "    accuracy                           0.85        68\n",
            "   macro avg       0.87      0.85      0.83        68\n",
            "weighted avg       0.90      0.85      0.85        68\n",
            "\n"
          ]
        }
      ]
    },
    {
      "cell_type": "markdown",
      "source": [
        "**Logistic Regression**"
      ],
      "metadata": {
        "id": "AKtskyTNlYIY"
      }
    },
    {
      "cell_type": "markdown",
      "source": [
        "Training with default parameters"
      ],
      "metadata": {
        "id": "6NFhBDQClnW2"
      }
    },
    {
      "cell_type": "code",
      "source": [
        "lrclf = LogisticRegression()"
      ],
      "metadata": {
        "id": "kntQg4o5liL4"
      },
      "execution_count": 79,
      "outputs": []
    },
    {
      "cell_type": "code",
      "source": [
        "lrclf.fit(X_train, y_train)"
      ],
      "metadata": {
        "colab": {
          "base_uri": "https://localhost:8080/"
        },
        "id": "y-TVFpFamLkI",
        "outputId": "83a62676-47a7-47d5-f34d-c629a09c17f2"
      },
      "execution_count": 82,
      "outputs": [
        {
          "output_type": "execute_result",
          "data": {
            "text/plain": [
              "LogisticRegression()"
            ]
          },
          "metadata": {},
          "execution_count": 82
        }
      ]
    },
    {
      "cell_type": "code",
      "source": [
        "lrclf_y_pred = lrclf.predict(X_test)"
      ],
      "metadata": {
        "id": "Somi4lVBmmPL"
      },
      "execution_count": 87,
      "outputs": []
    },
    {
      "cell_type": "code",
      "source": [
        "lrclf_cm = confusion_matrix(y_test, lrclf_y_pred)\n",
        "\n",
        "print(lrclf_cm)"
      ],
      "metadata": {
        "colab": {
          "base_uri": "https://localhost:8080/"
        },
        "id": "fxmUfLekmmNZ",
        "outputId": "525cb980-e0fc-4ac5-8142-179f60576424"
      },
      "execution_count": 88,
      "outputs": [
        {
          "output_type": "stream",
          "name": "stdout",
          "text": [
            "[[2 0 0 0 0 0 0 0 0 0 0 0 0 0 0 0 0 0 0 0 0 1 0 0 0 0 0 0 0]\n",
            " [0 1 0 0 0 0 0 0 0 0 0 0 0 0 0 0 0 0 0 0 0 0 0 0 0 0 0 0 0]\n",
            " [0 0 1 0 0 0 0 0 0 0 0 0 0 0 0 0 0 0 0 0 0 0 0 0 0 0 0 0 0]\n",
            " [0 0 0 0 0 0 0 0 0 0 0 0 2 0 0 0 0 0 0 0 0 0 0 0 0 0 0 0 0]\n",
            " [0 0 0 0 3 0 0 0 0 0 0 0 0 0 0 0 0 0 0 0 0 0 0 0 0 0 0 0 0]\n",
            " [0 0 0 0 0 2 0 0 0 0 0 0 0 0 0 0 0 0 0 0 0 0 0 0 0 0 0 0 0]\n",
            " [0 0 0 0 0 0 1 0 0 0 0 0 0 0 0 0 0 0 0 0 0 0 0 0 0 0 0 0 0]\n",
            " [0 0 0 0 0 0 0 5 0 0 0 0 0 0 0 0 0 0 0 0 0 0 0 0 0 0 0 0 0]\n",
            " [0 0 0 0 0 0 0 0 2 1 0 0 0 0 0 0 0 0 0 0 0 0 0 0 0 0 0 0 0]\n",
            " [0 0 0 0 0 0 0 0 0 1 0 0 0 0 0 0 0 0 0 0 0 0 0 0 0 0 0 0 0]\n",
            " [0 0 0 0 0 0 0 0 0 0 7 0 0 0 0 0 0 0 0 0 0 0 0 0 0 0 0 0 0]\n",
            " [0 0 0 0 0 0 0 0 0 0 0 2 0 0 0 0 0 0 0 0 0 0 0 0 0 0 0 0 0]\n",
            " [0 0 0 0 0 0 0 0 0 0 0 0 1 0 0 0 0 0 1 0 0 0 0 0 0 0 0 0 0]\n",
            " [0 0 0 0 0 0 0 0 0 0 0 0 0 1 0 0 0 0 0 0 1 0 0 0 0 0 0 0 0]\n",
            " [0 0 0 0 0 0 0 0 0 0 0 0 0 0 1 0 0 0 0 0 0 0 0 0 0 0 0 0 0]\n",
            " [0 0 0 0 0 0 0 0 0 0 0 0 0 0 0 4 0 0 0 0 0 1 0 0 0 0 0 0 0]\n",
            " [0 0 0 0 0 0 0 0 0 0 0 0 0 0 0 0 2 0 0 0 0 0 0 0 0 0 0 0 0]\n",
            " [0 0 0 0 0 0 0 0 0 0 0 0 0 0 0 0 0 2 0 0 0 0 0 0 0 0 0 0 0]\n",
            " [0 0 0 0 0 0 0 0 0 0 0 0 0 0 0 0 0 0 1 0 0 0 0 0 0 0 0 0 0]\n",
            " [0 0 0 0 0 0 0 0 0 0 0 0 0 0 0 0 1 0 0 1 0 0 0 0 0 0 0 0 0]\n",
            " [0 0 0 0 0 0 0 0 0 0 0 0 0 0 0 0 0 0 0 0 0 0 0 0 0 0 0 0 0]\n",
            " [0 0 0 0 0 0 0 0 0 0 0 0 0 0 0 0 0 0 0 0 0 1 0 0 0 0 0 0 0]\n",
            " [0 0 0 0 0 0 0 0 0 0 0 0 0 0 0 0 0 0 0 0 0 0 1 0 0 0 0 0 0]\n",
            " [0 0 0 0 0 0 0 0 0 0 0 0 0 0 0 0 0 0 0 0 0 0 0 2 0 0 1 0 0]\n",
            " [1 0 0 0 0 0 0 0 0 0 0 0 0 0 0 0 0 0 0 0 0 0 0 0 1 0 0 0 0]\n",
            " [1 0 0 0 0 0 0 0 0 0 0 0 0 0 0 0 0 0 0 0 0 0 0 0 0 2 0 0 0]\n",
            " [0 0 0 0 0 0 0 0 0 0 0 0 0 0 0 0 0 0 0 0 0 0 0 0 0 0 4 0 0]\n",
            " [0 0 0 0 0 0 0 0 0 0 0 0 0 0 0 1 0 0 0 0 1 0 0 0 0 0 0 1 0]\n",
            " [0 0 0 0 0 0 0 0 0 0 0 0 0 0 0 0 0 0 0 0 0 0 0 0 0 0 0 0 3]]\n"
          ]
        }
      ]
    },
    {
      "cell_type": "code",
      "source": [
        "lrclf_acc_score = accuracy_score(y_test, lrclf_y_pred)\n",
        "\n",
        "print(\"Accuracy: {:.2f}%\".format(lrclf_acc_score * 100))"
      ],
      "metadata": {
        "colab": {
          "base_uri": "https://localhost:8080/"
        },
        "id": "MVqQCELdmmKH",
        "outputId": "03aa8eaa-5f26-4631-841f-ffd25981f40d"
      },
      "execution_count": 90,
      "outputs": [
        {
          "output_type": "stream",
          "name": "stdout",
          "text": [
            "Accuracy: 80.88%\n"
          ]
        }
      ]
    },
    {
      "cell_type": "code",
      "source": [
        "print(classification_report(y_test, lrclf_y_pred))"
      ],
      "metadata": {
        "colab": {
          "base_uri": "https://localhost:8080/"
        },
        "id": "xZqW2uwcmmIU",
        "outputId": "a936ff55-9040-4299-a171-68de1314ca2a"
      },
      "execution_count": 91,
      "outputs": [
        {
          "output_type": "stream",
          "name": "stdout",
          "text": [
            "              precision    recall  f1-score   support\n",
            "\n",
            "           0       0.50      0.67      0.57         3\n",
            "           1       1.00      1.00      1.00         1\n",
            "           2       1.00      1.00      1.00         1\n",
            "           3       0.00      0.00      0.00         2\n",
            "           4       1.00      1.00      1.00         3\n",
            "           5       1.00      1.00      1.00         2\n",
            "           6       1.00      1.00      1.00         1\n",
            "           7       1.00      1.00      1.00         5\n",
            "           8       1.00      0.67      0.80         3\n",
            "           9       0.50      1.00      0.67         1\n",
            "          10       1.00      1.00      1.00         7\n",
            "          11       1.00      1.00      1.00         2\n",
            "          12       0.33      0.50      0.40         2\n",
            "          13       1.00      0.50      0.67         2\n",
            "          14       1.00      1.00      1.00         1\n",
            "          15       0.80      0.80      0.80         5\n",
            "          17       0.67      1.00      0.80         2\n",
            "          18       1.00      1.00      1.00         2\n",
            "          19       0.50      1.00      0.67         1\n",
            "          20       1.00      0.50      0.67         2\n",
            "          21       0.00      0.00      0.00         0\n",
            "          22       0.33      1.00      0.50         1\n",
            "          23       1.00      1.00      1.00         1\n",
            "          24       1.00      0.67      0.80         3\n",
            "          25       1.00      0.50      0.67         2\n",
            "          26       1.00      0.67      0.80         3\n",
            "          27       0.80      1.00      0.89         4\n",
            "          28       1.00      0.33      0.50         3\n",
            "          29       1.00      1.00      1.00         3\n",
            "\n",
            "    accuracy                           0.81        68\n",
            "   macro avg       0.81      0.79      0.77        68\n",
            "weighted avg       0.87      0.81      0.81        68\n",
            "\n"
          ]
        },
        {
          "output_type": "stream",
          "name": "stderr",
          "text": [
            "/usr/local/lib/python3.8/dist-packages/sklearn/metrics/_classification.py:1318: UndefinedMetricWarning: Precision and F-score are ill-defined and being set to 0.0 in labels with no predicted samples. Use `zero_division` parameter to control this behavior.\n",
            "  _warn_prf(average, modifier, msg_start, len(result))\n",
            "/usr/local/lib/python3.8/dist-packages/sklearn/metrics/_classification.py:1318: UndefinedMetricWarning: Recall and F-score are ill-defined and being set to 0.0 in labels with no true samples. Use `zero_division` parameter to control this behavior.\n",
            "  _warn_prf(average, modifier, msg_start, len(result))\n",
            "/usr/local/lib/python3.8/dist-packages/sklearn/metrics/_classification.py:1318: UndefinedMetricWarning: Precision and F-score are ill-defined and being set to 0.0 in labels with no predicted samples. Use `zero_division` parameter to control this behavior.\n",
            "  _warn_prf(average, modifier, msg_start, len(result))\n",
            "/usr/local/lib/python3.8/dist-packages/sklearn/metrics/_classification.py:1318: UndefinedMetricWarning: Recall and F-score are ill-defined and being set to 0.0 in labels with no true samples. Use `zero_division` parameter to control this behavior.\n",
            "  _warn_prf(average, modifier, msg_start, len(result))\n",
            "/usr/local/lib/python3.8/dist-packages/sklearn/metrics/_classification.py:1318: UndefinedMetricWarning: Precision and F-score are ill-defined and being set to 0.0 in labels with no predicted samples. Use `zero_division` parameter to control this behavior.\n",
            "  _warn_prf(average, modifier, msg_start, len(result))\n",
            "/usr/local/lib/python3.8/dist-packages/sklearn/metrics/_classification.py:1318: UndefinedMetricWarning: Recall and F-score are ill-defined and being set to 0.0 in labels with no true samples. Use `zero_division` parameter to control this behavior.\n",
            "  _warn_prf(average, modifier, msg_start, len(result))\n"
          ]
        }
      ]
    },
    {
      "cell_type": "markdown",
      "source": [
        "**Naive Bayes classifier**"
      ],
      "metadata": {
        "id": "pwwTK4Tyu1If"
      }
    },
    {
      "cell_type": "markdown",
      "source": [
        "Training with default parameters"
      ],
      "metadata": {
        "id": "hovy7qu4ibo6"
      }
    },
    {
      "cell_type": "code",
      "execution_count": 63,
      "metadata": {
        "id": "5hE7qOrSsbya"
      },
      "outputs": [],
      "source": [
        "nbclf = GaussianNB()"
      ]
    },
    {
      "cell_type": "code",
      "execution_count": 64,
      "metadata": {
        "colab": {
          "base_uri": "https://localhost:8080/"
        },
        "id": "Q3gBIPKfsbya",
        "outputId": "07d7aa9a-98e3-4952-94a2-dd929287edb0"
      },
      "outputs": [
        {
          "output_type": "execute_result",
          "data": {
            "text/plain": [
              "GaussianNB()"
            ]
          },
          "metadata": {},
          "execution_count": 64
        }
      ],
      "source": [
        "nbclf.fit(X_train, y_train)"
      ]
    },
    {
      "cell_type": "code",
      "execution_count": 66,
      "metadata": {
        "id": "1o1FXMzAsbya"
      },
      "outputs": [],
      "source": [
        "nbclf_y_pred = nbclf.predict(X_test)"
      ]
    },
    {
      "cell_type": "code",
      "execution_count": 67,
      "metadata": {
        "id": "bcr2p6XKsbya"
      },
      "outputs": [],
      "source": [
        "nbclf_cm = confusion_matrix(y_test, nbclf_y_pred)\n",
        "\n",
        "print(nbclf_cm)"
      ]
    },
    {
      "cell_type": "code",
      "execution_count": null,
      "metadata": {
        "id": "mHf0otw-sbyb"
      },
      "outputs": [],
      "source": [
        "nbclf_acc_score = accuracy_score(y_test, nbclf_y_pred)\n",
        "\n",
        "print(\"Accuracy: {:.2f}%\".format(nbclf_acc_score * 100))"
      ]
    },
    {
      "cell_type": "code",
      "execution_count": 70,
      "metadata": {
        "colab": {
          "base_uri": "https://localhost:8080/"
        },
        "id": "ca6w4pGGsbyb",
        "outputId": "bdbc10ce-10b4-4ca0-eaae-5b3208397ae8"
      },
      "outputs": [
        {
          "output_type": "stream",
          "name": "stdout",
          "text": [
            "              precision    recall  f1-score   support\n",
            "\n",
            "           0       0.67      0.67      0.67         3\n",
            "           1       1.00      1.00      1.00         1\n",
            "           2       1.00      1.00      1.00         1\n",
            "           3       0.00      0.00      0.00         2\n",
            "           4       1.00      1.00      1.00         3\n",
            "           5       0.50      1.00      0.67         2\n",
            "           6       1.00      1.00      1.00         1\n",
            "           7       1.00      1.00      1.00         5\n",
            "           8       1.00      0.67      0.80         3\n",
            "           9       0.50      1.00      0.67         1\n",
            "          10       1.00      0.57      0.73         7\n",
            "          11       0.33      0.50      0.40         2\n",
            "          12       1.00      0.50      0.67         2\n",
            "          13       0.50      0.50      0.50         2\n",
            "          14       1.00      1.00      1.00         1\n",
            "          15       0.67      0.40      0.50         5\n",
            "          17       0.40      1.00      0.57         2\n",
            "          18       1.00      1.00      1.00         2\n",
            "          19       1.00      1.00      1.00         1\n",
            "          20       0.33      0.50      0.40         2\n",
            "          21       0.00      0.00      0.00         0\n",
            "          22       0.50      1.00      0.67         1\n",
            "          23       1.00      1.00      1.00         1\n",
            "          24       1.00      0.67      0.80         3\n",
            "          25       1.00      0.50      0.67         2\n",
            "          26       1.00      0.67      0.80         3\n",
            "          27       0.80      1.00      0.89         4\n",
            "          28       1.00      0.33      0.50         3\n",
            "          29       0.75      1.00      0.86         3\n",
            "\n",
            "    accuracy                           0.72        68\n",
            "   macro avg       0.76      0.74      0.72        68\n",
            "weighted avg       0.81      0.72      0.73        68\n",
            "\n"
          ]
        },
        {
          "output_type": "stream",
          "name": "stderr",
          "text": [
            "/usr/local/lib/python3.8/dist-packages/sklearn/metrics/_classification.py:1318: UndefinedMetricWarning: Precision and F-score are ill-defined and being set to 0.0 in labels with no predicted samples. Use `zero_division` parameter to control this behavior.\n",
            "  _warn_prf(average, modifier, msg_start, len(result))\n",
            "/usr/local/lib/python3.8/dist-packages/sklearn/metrics/_classification.py:1318: UndefinedMetricWarning: Recall and F-score are ill-defined and being set to 0.0 in labels with no true samples. Use `zero_division` parameter to control this behavior.\n",
            "  _warn_prf(average, modifier, msg_start, len(result))\n",
            "/usr/local/lib/python3.8/dist-packages/sklearn/metrics/_classification.py:1318: UndefinedMetricWarning: Precision and F-score are ill-defined and being set to 0.0 in labels with no predicted samples. Use `zero_division` parameter to control this behavior.\n",
            "  _warn_prf(average, modifier, msg_start, len(result))\n",
            "/usr/local/lib/python3.8/dist-packages/sklearn/metrics/_classification.py:1318: UndefinedMetricWarning: Recall and F-score are ill-defined and being set to 0.0 in labels with no true samples. Use `zero_division` parameter to control this behavior.\n",
            "  _warn_prf(average, modifier, msg_start, len(result))\n",
            "/usr/local/lib/python3.8/dist-packages/sklearn/metrics/_classification.py:1318: UndefinedMetricWarning: Precision and F-score are ill-defined and being set to 0.0 in labels with no predicted samples. Use `zero_division` parameter to control this behavior.\n",
            "  _warn_prf(average, modifier, msg_start, len(result))\n",
            "/usr/local/lib/python3.8/dist-packages/sklearn/metrics/_classification.py:1318: UndefinedMetricWarning: Recall and F-score are ill-defined and being set to 0.0 in labels with no true samples. Use `zero_division` parameter to control this behavior.\n",
            "  _warn_prf(average, modifier, msg_start, len(result))\n"
          ]
        }
      ],
      "source": [
        "print(classification_report(y_test, nbclf_y_pred))"
      ]
    },
    {
      "cell_type": "markdown",
      "source": [
        "**Support Vector Machine (SVM)**"
      ],
      "metadata": {
        "id": "bmfBMGUPjMO7"
      }
    },
    {
      "cell_type": "markdown",
      "source": [
        "Training with default parameters"
      ],
      "metadata": {
        "id": "px7nkb42jRBR"
      }
    },
    {
      "cell_type": "code",
      "source": [
        "svmclf = SVC()"
      ],
      "metadata": {
        "id": "IEO7MCf8jOBA"
      },
      "execution_count": 71,
      "outputs": []
    },
    {
      "cell_type": "code",
      "source": [
        "svmclf.fit(X_train, y_train)"
      ],
      "metadata": {
        "colab": {
          "base_uri": "https://localhost:8080/"
        },
        "id": "lhfPt3u7kJ8A",
        "outputId": "4c9ff4d4-fe15-4700-ef3c-a70778f6f6f1"
      },
      "execution_count": 72,
      "outputs": [
        {
          "output_type": "execute_result",
          "data": {
            "text/plain": [
              "SVC()"
            ]
          },
          "metadata": {},
          "execution_count": 72
        }
      ]
    },
    {
      "cell_type": "code",
      "source": [
        "svmclf_y_pred = svmclf.predict(X_test)"
      ],
      "metadata": {
        "id": "0mYn8IEckTpU"
      },
      "execution_count": 73,
      "outputs": []
    },
    {
      "cell_type": "code",
      "source": [
        "svmclf_cm = confusion_matrix(y_test, svmclf_y_pred)\n",
        "\n",
        "print(svmclf_cm)"
      ],
      "metadata": {
        "id": "lwD3LsGekg3E"
      },
      "execution_count": 74,
      "outputs": []
    },
    {
      "cell_type": "code",
      "source": [
        "svmclf_acc_score = accuracy_score(y_test, svmclf_y_pred)\n",
        "\n",
        "print(\"Accuracy: {:.2f}%\".format(svmclf_acc_score * 100))"
      ],
      "metadata": {
        "id": "UDvXPh8TkuB6"
      },
      "execution_count": 76,
      "outputs": []
    },
    {
      "cell_type": "code",
      "source": [
        "print(classification_report(y_test, svmclf_y_pred))"
      ],
      "metadata": {
        "colab": {
          "base_uri": "https://localhost:8080/"
        },
        "id": "8b27tVank9ko",
        "outputId": "4973b807-3da7-49b4-f6b5-d977171133b0"
      },
      "execution_count": 78,
      "outputs": [
        {
          "output_type": "stream",
          "name": "stdout",
          "text": [
            "              precision    recall  f1-score   support\n",
            "\n",
            "           0       0.50      0.67      0.57         3\n",
            "           1       1.00      1.00      1.00         1\n",
            "           2       0.00      0.00      0.00         1\n",
            "           3       0.00      0.00      0.00         2\n",
            "           4       0.75      1.00      0.86         3\n",
            "           5       1.00      1.00      1.00         2\n",
            "           6       1.00      1.00      1.00         1\n",
            "           7       1.00      1.00      1.00         5\n",
            "           8       0.67      0.67      0.67         3\n",
            "           9       0.50      1.00      0.67         1\n",
            "          10       1.00      1.00      1.00         7\n",
            "          11       0.50      1.00      0.67         2\n",
            "          12       0.33      0.50      0.40         2\n",
            "          13       1.00      0.50      0.67         2\n",
            "          14       1.00      1.00      1.00         1\n",
            "          15       1.00      0.40      0.57         5\n",
            "          17       0.67      1.00      0.80         2\n",
            "          18       1.00      1.00      1.00         2\n",
            "          19       0.33      1.00      0.50         1\n",
            "          20       1.00      0.50      0.67         2\n",
            "          21       0.00      0.00      0.00         0\n",
            "          22       0.33      1.00      0.50         1\n",
            "          23       0.00      0.00      0.00         1\n",
            "          24       1.00      0.67      0.80         3\n",
            "          25       1.00      0.50      0.67         2\n",
            "          26       1.00      0.67      0.80         3\n",
            "          27       0.80      1.00      0.89         4\n",
            "          28       1.00      0.33      0.50         3\n",
            "          29       1.00      1.00      1.00         3\n",
            "\n",
            "    accuracy                           0.75        68\n",
            "   macro avg       0.70      0.70      0.66        68\n",
            "weighted avg       0.81      0.75      0.74        68\n",
            "\n"
          ]
        },
        {
          "output_type": "stream",
          "name": "stderr",
          "text": [
            "/usr/local/lib/python3.8/dist-packages/sklearn/metrics/_classification.py:1318: UndefinedMetricWarning: Precision and F-score are ill-defined and being set to 0.0 in labels with no predicted samples. Use `zero_division` parameter to control this behavior.\n",
            "  _warn_prf(average, modifier, msg_start, len(result))\n",
            "/usr/local/lib/python3.8/dist-packages/sklearn/metrics/_classification.py:1318: UndefinedMetricWarning: Recall and F-score are ill-defined and being set to 0.0 in labels with no true samples. Use `zero_division` parameter to control this behavior.\n",
            "  _warn_prf(average, modifier, msg_start, len(result))\n",
            "/usr/local/lib/python3.8/dist-packages/sklearn/metrics/_classification.py:1318: UndefinedMetricWarning: Precision and F-score are ill-defined and being set to 0.0 in labels with no predicted samples. Use `zero_division` parameter to control this behavior.\n",
            "  _warn_prf(average, modifier, msg_start, len(result))\n",
            "/usr/local/lib/python3.8/dist-packages/sklearn/metrics/_classification.py:1318: UndefinedMetricWarning: Recall and F-score are ill-defined and being set to 0.0 in labels with no true samples. Use `zero_division` parameter to control this behavior.\n",
            "  _warn_prf(average, modifier, msg_start, len(result))\n",
            "/usr/local/lib/python3.8/dist-packages/sklearn/metrics/_classification.py:1318: UndefinedMetricWarning: Precision and F-score are ill-defined and being set to 0.0 in labels with no predicted samples. Use `zero_division` parameter to control this behavior.\n",
            "  _warn_prf(average, modifier, msg_start, len(result))\n",
            "/usr/local/lib/python3.8/dist-packages/sklearn/metrics/_classification.py:1318: UndefinedMetricWarning: Recall and F-score are ill-defined and being set to 0.0 in labels with no true samples. Use `zero_division` parameter to control this behavior.\n",
            "  _warn_prf(average, modifier, msg_start, len(result))\n"
          ]
        }
      ]
    }
  ],
  "metadata": {
    "kernelspec": {
      "display_name": "Python 3 (ipykernel)",
      "language": "python",
      "name": "python3"
    },
    "language_info": {
      "codemirror_mode": {
        "name": "ipython",
        "version": 3
      },
      "file_extension": ".py",
      "mimetype": "text/x-python",
      "name": "python",
      "nbconvert_exporter": "python",
      "pygments_lexer": "ipython3",
      "version": "3.9.13"
    },
    "vscode": {
      "interpreter": {
        "hash": "dfbca90334721b44a29d4de03b103f58bebe0bc1281e5cc1266a316e3a6bbcad"
      }
    },
    "colab": {
      "provenance": []
    },
    "gpuClass": "standard"
  },
  "nbformat": 4,
  "nbformat_minor": 0
}